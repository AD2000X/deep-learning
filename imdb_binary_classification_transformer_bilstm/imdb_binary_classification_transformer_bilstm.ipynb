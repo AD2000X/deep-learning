{
 "cells": [
  {
   "cell_type": "markdown",
   "metadata": {
    "id": "douRB1Cz8w1J"
   },
   "source": [
    "# IMDB Movie Review Classification"
   ]
  },
  {
   "cell_type": "markdown",
   "metadata": {
    "id": "IMtCJPmOj5bw"
   },
   "source": [
    "# Structure:\n",
    "# 1. Attention is all we need.\n",
    "# 2. Why eliminate overfitting is so important?\n",
    "# 3. Summarise signs of overfitting.\n",
    "# 4. Imoprt required libary and module\n",
    "# 5. Review content\n",
    "# 6. Beat the baseline: 50% accuracy!\n",
    "# 6-1. Preparing the data\n",
    "# 6-2. Sanity Check\n",
    "# 7. Models for IMDB movie revview classification\n",
    "<br>7-1. Processing words as a sequence: Transformer encoder based model\n",
    "<br>7-2. Implementing positional embedding to Transformer encoder based model\n",
    "<br>7-3. Bidirectional LSTM\n",
    "<br>7-4. GloVe\n",
    "<br>7-5. Bag-of-words: N-gram(N=2)\n",
    "<br>7-6. Bigram\n",
    "<br>7-7. TF-IDF bigram model\n",
    "# 8. Created a new model for inference (inference_model)\n",
    "# 9. Attention is all we need?\n",
    "# 10. References"
   ]
  },
  {
   "cell_type": "markdown",
   "metadata": {
    "id": "zLZjsqqMXydO"
   },
   "source": [
    "# 1. Attention is all we need.\n",
    "#### In this coursework 2, we applied seven different methods on the IMDB sentiment classification mission. Since the publication of 'Attention is all you need', it has been sensational in the deep learning field, so the most we dive into is transformer architecture."
   ]
  },
  {
   "cell_type": "markdown",
   "metadata": {
    "id": "CGjk3SFUIBtb"
   },
   "source": [
    "# 2. Why eliminate overfitting is so important?\n",
    "#### It turns the biggest challenge for DLWP warriors is not the freezing winter morning, it is overfitting instead. Since we have been fought against overfitting during our entire term, it is nessassary to summarise some important concept of overfitting in this coursework 1 and 2.\n",
    "\n",
    "#### Alleviate Overfitting is an important concept and step in deep learning, including the following reason:\n",
    "&nbsp;&nbsp;&nbsp;&nbsp;1. Improve model generalisation. Overfitting situation represents the model only performs well on the training data instead of unseen data, meaning by alleviating overfitting, the model can have a better prediction ability in the real world application, and it is usually our final purpose as well.\n",
    "\n",
    "&nbsp;&nbsp;&nbsp;&nbsp;2. Elevating model interpretability. Unfortunately, the real world data is full of noises. An overfitting model could learn noises in dataset instead of the useful patterns. Hence, alleviate overfitting is not only a nessasary process to reducing wasting of resources, but also training a useful model."
   ]
  },
  {
   "cell_type": "markdown",
   "metadata": {
    "id": "Cy97VBluNjy-"
   },
   "source": [
    "# 3. Summarise signs of overfitting.\n",
    "### By observing the relative value among training loss and validation loss, and training accuracy and validation accuracy in coursework 1 and coursework 2, we can summarise the sign of overfitting:\n",
    "\n",
    "#### 1. Training loss and validation loss.\n",
    "If the training loss keep decreasing, but the validation loss starts to increase or stop decreasing, it is an typical overfitting, which means the model performs well on training dataset but performs poorly on unseen(validation) dataset.\n",
    "\n",
    "#### 2. Training accuracy and validation accuracy.\n",
    "If training accuracy keeps increasing, but validation accuracy stop increasing or starts decreasing, it is also a sign of overfitting because the model possibily just remeber the pattern of the training dataset rather than learning the ability to generalise to new data.\n",
    "\n",
    "##### 3. The instability of model performance is a sign of overfitting as well. If the model performs very volatile on validation dataset, it usually represents the model is too sensitive to the training dataset, rather than generalise effetively.\n",
    "\n",
    "##### 4. Unusual decrease in performance of validation datasest after increased in performance at the begin is also an indication of overfitting because the convergence speed is too fast so the model haven't learned enough features to become more generalision."
   ]
  },
  {
   "cell_type": "markdown",
   "metadata": {
    "id": "_a7KOtkZouRy"
   },
   "source": [
    "# 4. Imoprt required libary and module"
   ]
  },
  {
   "cell_type": "code",
   "execution_count": null,
   "metadata": {
    "id": "vRXcNxQn9pJq"
   },
   "outputs": [],
   "source": [
    "# codes from Jérémie's ARTIFICIAL INTELLIGENCE (2023-24), Goldsmiths\n",
    "# codes from Ch.11, DLWP\n",
    "# codes from ChatGPT 4, 23/12~31/12, 2023\n",
    "\n",
    "import os, pathlib, shutil, random\n",
    "import pandas as pd\n",
    "import numpy as np\n",
    "import keras\n",
    "import sys\n",
    "import matplotlib.pyplot as plt\n",
    "import tensorflow as tf\n",
    "import seaborn as sns\n",
    "from scipy.stats import norm\n",
    "from tensorflow.keras.layers import TextVectorization\n",
    "from tensorflow.keras import layers\n",
    "from tensorflow.keras.callbacks import EarlyStopping"
   ]
  },
  {
   "cell_type": "code",
   "execution_count": null,
   "metadata": {
    "colab": {
     "base_uri": "https://localhost:8080/"
    },
    "id": "F583Fyu6FlNz",
    "outputId": "61116cd9-15a0-4788-b997-981309c37994"
   },
   "outputs": [
    {
     "name": "stdout",
     "output_type": "stream",
     "text": [
      "Drive already mounted at /content/drive; to attempt to forcibly remount, call drive.mount(\"/content/drive\", force_remount=True).\n"
     ]
    }
   ],
   "source": [
    "# codes from Jérémie's ARTIFICIAL INTELLIGENCE (2023-24), Goldsmiths\n",
    "\n",
    "if 'google.colab' in sys.modules:\n",
    "    from google.colab import drive\n",
    "    drive.mount('/content/drive')\n",
    "    os.chdir('/content/drive/My Drive/Colab Notebooks')      # 'My Drive' is the default name of Google Drives\n",
    "    os.listdir()"
   ]
  },
  {
   "cell_type": "markdown",
   "metadata": {
    "id": "q1OETzsx_nGx"
   },
   "source": [
    "#### Downloading the data and delete train/unsup category. Because these catgories\n",
    "##### 7 minuites faster than process by T4 GPU."
   ]
  },
  {
   "cell_type": "markdown",
   "metadata": {
    "id": "njyqkM5Fa7oi"
   },
   "source": [
    "#### Downloading the data and delete train/unsup category. Because these categories has no obvious negative of positive labels so they will not be used in our mission. The processing speed could increase by decreaing the data amount."
   ]
  },
  {
   "cell_type": "code",
   "execution_count": null,
   "metadata": {
    "colab": {
     "base_uri": "https://localhost:8080/"
    },
    "id": "nNDaR6Wj_InK",
    "outputId": "249cc7c4-d9b4-4cde-8a42-3bb06f915c43"
   },
   "outputs": [
    {
     "name": "stdout",
     "output_type": "stream",
     "text": [
      "  % Total    % Received % Xferd  Average Speed   Time    Time     Time  Current\n",
      "                                 Dload  Upload   Total   Spent    Left  Speed\n",
      "100 80.2M  100 80.2M    0     0  5622k      0  0:00:14  0:00:14 --:--:-- 8402k\n"
     ]
    }
   ],
   "source": [
    "# codes from Jérémie's ARTIFICIAL INTELLIGENCE (2023-24), Goldsmiths\n",
    "\n",
    "!curl -O https://ai.stanford.edu/~amaas/data/sentiment/aclImdb_v1.tar.gz\n",
    "!tar -xf aclImdb_v1.tar.gz\n",
    "!rm -r aclImdb/train/unsup"
   ]
  },
  {
   "cell_type": "code",
   "execution_count": null,
   "metadata": {
    "colab": {
     "base_uri": "https://localhost:8080/"
    },
    "id": "_peA9f9eEp3_",
    "outputId": "64829757-6d2c-4d2a-bf43-cf332843f00d"
   },
   "outputs": [
    {
     "name": "stdout",
     "output_type": "stream",
     "text": [
      "imdbEr.txt  imdb.vocab\tREADME\ttest  train\n"
     ]
    }
   ],
   "source": [
    "# codes from Ch.11, DLWP\n",
    "\n",
    "!ls aclImdb"
   ]
  },
  {
   "cell_type": "markdown",
   "metadata": {
    "id": "e9mwnt5_DWlM"
   },
   "source": [
    "# 5. Review content\n",
    "#### According to ***DLWP 11.3.1***, we should \"...always inspect what our data looks like before we dive into modeling it. It will ground our intuition about what our model is actually doing.\":"
   ]
  },
  {
   "cell_type": "code",
   "execution_count": null,
   "metadata": {
    "colab": {
     "base_uri": "https://localhost:8080/"
    },
    "id": "RfReD18xHUYd",
    "outputId": "9432a3bf-9631-4a1d-a177-4edc56a4fd8a"
   },
   "outputs": [
    {
     "name": "stdout",
     "output_type": "stream",
     "text": [
      "I first saw this back in the early 90s on UK TV, i did like it then but i missed the chance to tape it, many years passed but the film always stuck with me and i lost hope of seeing it TV again, the main thing that stuck with me was the end, the hole castle part really touched me, its easy to watch, has a great story, great music, the list goes on and on, its OK me saying how good it is but everyone will take there own best bits away with them once they have seen it, yes the animation is top notch and beautiful to watch, it does show its age in a very few parts but that has now become part of it beauty, i am so glad it has came out on DVD as it is one of my top 10 films of all time. Buy it or rent it just see it, best viewing is at night alone with drink and food in reach so you don't have to stop the film.<br /><br />Enjoy"
     ]
    }
   ],
   "source": [
    "# codes from Ch.11, DLWP\n",
    "\n",
    "!cat aclImdb/train/pos/4077_10.txt"
   ]
  },
  {
   "cell_type": "markdown",
   "metadata": {
    "id": "CGO5T4zCMU5B"
   },
   "source": [
    "##### Let's have a more specific review:"
   ]
  },
  {
   "cell_type": "code",
   "execution_count": null,
   "metadata": {
    "colab": {
     "base_uri": "https://localhost:8080/"
    },
    "id": "zkU5qt__G7UR",
    "outputId": "f39a24ce-6a95-4709-8e19-32119b2c9d51"
   },
   "outputs": [
    {
     "name": "stdout",
     "output_type": "stream",
     "text": [
      "Loading 12500 neg reviews\n",
      "Loading 12500 pos reviews\n",
      "0    12500\n",
      "1    12500\n",
      "Name: sentiment, dtype: int64\n",
      "                                                  review  sentiment\n",
      "10166  Way back in 1967, a certain director had no id...          0\n",
      "2470   There are a number of problems with this movie...          0\n",
      "6952   This film is pure 'Hollywood hokum'. It is bas...          0\n",
      "14433  I've never been huge on IMAX films. They're co...          1\n",
      "9287   I recently decided to revisit The Omen trilogy...          0\n"
     ]
    }
   ],
   "source": [
    "# codes from Jérémie's ARTIFICIAL INTELLIGENCE (2023-24), Goldsmiths\n",
    "# codes from Ch.11, DLWP\n",
    "# codes from ChatGPT 4, 23/12~31/12, 2023\n",
    "\n",
    "def load_imdb_dataset(base_path):\n",
    "    labels = {'pos': 1, 'neg': 0}\n",
    "    rows = []                                                 # use list to storage all rows\n",
    "\n",
    "    for label_type in ('neg', 'pos'):\n",
    "        dir_name = os.path.join(base_path, label_type)\n",
    "        files = os.listdir(dir_name)\n",
    "        print(f\"Loading {len(files)} {label_type} reviews\")\n",
    "\n",
    "        for fname in files:\n",
    "            if fname.endswith('.txt'):\n",
    "                with open(os.path.join(dir_name, fname), encoding='utf-8') as f:\n",
    "                    text = f.read()\n",
    "                rows.append([text, labels[label_type]])       # Add each row of data to the list\n",
    "\n",
    "    df = pd.DataFrame(rows, columns=['review', 'sentiment'])  # create a dataFrame directly from a list\n",
    "    return df\n",
    "\n",
    "base_path = 'aclImdb/train'\n",
    "df = load_imdb_dataset(base_path)\n",
    "print(df['sentiment'].value_counts())\n",
    "\n",
    "print(df.sample(5))                                           # random sampling of five elements"
   ]
  },
  {
   "cell_type": "code",
   "execution_count": null,
   "metadata": {
    "colab": {
     "base_uri": "https://localhost:8080/",
     "height": 564
    },
    "id": "G-a-wataOcxP",
    "outputId": "c1f48a0a-460b-436e-b0ac-734af5bcbec7"
   },
   "outputs": [
    {
     "data": {
      "image/png": "[encoded data removed]",
      "text/plain": [
       "<Figure size 800x600 with 1 Axes>"
      ]
     },
     "metadata": {},
     "output_type": "display_data"
    }
   ],
   "source": [
    "# codes from ChatGPT 4, 23/12~31/12, 2023\n",
    "\n",
    "# convert numeric labels to text labels\n",
    "df['sentiment_label'] = df['sentiment'].map({1: 'positive', 0: 'negative'})\n",
    "\n",
    "# draw count bar chart using seaborn\n",
    "plt.figure(figsize=(8, 6))                # set image size\n",
    "sns.countplot(x=df['sentiment_label'])\n",
    "plt.title('Sentiment Distribution')       # set title\n",
    "plt.xlabel('Sentiment')                   # set x-axis labels\n",
    "plt.ylabel('Count')                       # set y-axis labels\n",
    "plt.grid(True)                            # show grid lines\n",
    "plt.show()                                # display the chart"
   ]
  },
  {
   "cell_type": "markdown",
   "metadata": {
    "id": "9OZTiE9icM0a"
   },
   "source": [
    "# 6. Beat the baseline: 50% accuracy.\n",
    "#### Since we've been remind that we have to clarify why the baseline of sentiment classification for IMDB movie reviews is 50% in coursework 1, here we are going to explain that. Because the sentiment classification mission we are goint to do here is either positive or negative, which means the accuracy rate is 50/50 by random guessing. Therefore, the baseline we set is more than 50% accuracy or the model is useless( at least need to be better than arandom guess, right?). Of course, if this is a regression mission, the baseline could be average, median, MSE, RMSE, or MAE, etc."
   ]
  },
  {
   "cell_type": "markdown",
   "metadata": {
    "id": "HPYTDwrh_qxB"
   },
   "source": [
    "## 6-1. Preparing the data"
   ]
  },
  {
   "cell_type": "code",
   "execution_count": null,
   "metadata": {
    "id": "mrZ1xrDG_dAq"
   },
   "outputs": [],
   "source": [
    "# codes from Jérémie's ARTIFICIAL INTELLIGENCE (2023-24), Goldsmiths\n",
    "# codes from Ch.11, DLWP\n",
    "\n",
    "batch_size = 32                                  # DLWP 11.3.1\n",
    "base_dir = pathlib.Path(\"aclImdb\")\n",
    "train_dir = base_dir / \"train\"\n",
    "val_dir = base_dir / \"val\"\n",
    "test_dir = base_dir / \"test\"\n",
    "\n",
    "for category in (\"neg\", \"pos\"):\n",
    "    if not os.path.isdir(val_dir / category):    # do this only once\n",
    "        os.makedirs(val_dir / category)          # make 'neg'/'pos' dir in validation\n",
    "        files = os.listdir(train_dir / category) # list files in 'train'\n",
    "        random.Random(1337).shuffle(files)       # shuffle using a seed\n",
    "        num_val_samples = int(0.2 * len(files))  # 2% of our samples for validation\n",
    "        val_files = files[-num_val_samples:]\n",
    "        for fname in val_files:                  # move our files\n",
    "            shutil.move(\n",
    "                train_dir / category / fname,\n",
    "                val_dir / category / fname\n",
    "            )"
   ]
  },
  {
   "cell_type": "code",
   "execution_count": null,
   "metadata": {
    "colab": {
     "base_uri": "https://localhost:8080/"
    },
    "id": "iHD4EJva_gxn",
    "outputId": "88e2b940-fdad-4552-da45-15e7b5232213"
   },
   "outputs": [
    {
     "name": "stdout",
     "output_type": "stream",
     "text": [
      "Found 20000 files belonging to 2 classes.\n",
      "Found 5000 files belonging to 2 classes.\n",
      "Found 25000 files belonging to 2 classes.\n"
     ]
    }
   ],
   "source": [
    "# codes from Jérémie's ARTIFICIAL INTELLIGENCE (2023-24), Goldsmiths\n",
    "# codes from Ch11., DLWP\n",
    "\n",
    "train_ds = tf.keras.utils.text_dataset_from_directory(\n",
    "    train_dir, batch_size=batch_size\n",
    ")\n",
    "val_ds = tf.keras.utils.text_dataset_from_directory(\n",
    "    val_dir, batch_size=batch_size\n",
    ")\n",
    "test_ds = tf.keras.utils.text_dataset_from_directory(\n",
    "    test_dir, batch_size=batch_size\n",
    ")\n",
    "text_only_train_ds = train_ds.map(lambda x, y: x) # creates a new dataset (text_only_train_ds) that contains only the text portion of the training dataset, with labels removed."
   ]
  },
  {
   "cell_type": "markdown",
   "metadata": {
    "id": "4gaj2TeHHj3q"
   },
   "source": [
    "## 6-2. Sanity Check"
   ]
  },
  {
   "cell_type": "markdown",
   "metadata": {
    "id": "C6YAzc1IQvS-"
   },
   "source": [
    "#### To ensure the format of dataset meets the requirements for model training, ***DLWP Listing 11.2*** displays the shapes and dtypes of the first batch:\n",
    "#### Batch size: The `inputs.shape` is with 32 one dimensional samples that equals to `targets.shape`.\n",
    "#### Data type: It is correct that inputs data type is `string` and outputs data type is `int32`(category label).\n",
    "#### [0] Check the input and output for the first sample."
   ]
  },
  {
   "cell_type": "markdown",
   "metadata": {
    "id": "eZkmNpaOQBpT"
   },
   "source": [
    "#### According to ***DLWP listing 8.9*** and Chapter ***11.3.1***, we cab apply the same method to create Dataset objects:"
   ]
  },
  {
   "cell_type": "code",
   "execution_count": null,
   "metadata": {
    "colab": {
     "base_uri": "https://localhost:8080/"
    },
    "id": "eIkFAmDGQUQw",
    "outputId": "2b952dc0-a5ce-498d-bbf2-758fb20fbc78"
   },
   "outputs": [
    {
     "name": "stdout",
     "output_type": "stream",
     "text": [
      "inputs.shape: (32,)\n",
      "inputs.dtype: <dtype: 'string'>\n",
      "targets.shape: (32,)\n",
      "targets.dtype: <dtype: 'int32'>\n",
      "inputs[0]: tf.Tensor(b\"I have seen this film three times now, and each time I see it, it becomes more personal and more emotional to watch.<br /><br />The acting is amazing, which is not hard to believe since it is Daniel Day Lewis, who is an amazing actor. Brenda Fricker is the surprise wonder in it, though. She captures your heart as the mother of a physically disabled boy, who is not able to walk, or speak until he is in his late teens.<br /><br />I can't say enough good things about the movie, but I will stop here. I recommend it to anyone who enjoys movies that are based on actual events, or just enjoy good dramas in general.\", shape=(), dtype=string)\n",
      "targets[0]: tf.Tensor(1, shape=(), dtype=int32)\n"
     ]
    }
   ],
   "source": [
    "# codes from ChatGPT 4, 23/12~31/12, 2023\n",
    "\n",
    "for inputs, targets in train_ds:\n",
    "  print(\"inputs.shape:\", inputs.shape)\n",
    "  print(\"inputs.dtype:\", inputs.dtype)\n",
    "  print(\"targets.shape:\", targets.shape)\n",
    "  print(\"targets.dtype:\", targets.dtype)\n",
    "  print(\"inputs[0]:\", inputs[0])\n",
    "  print(\"targets[0]:\", targets[0])\n",
    "  break"
   ]
  },
  {
   "cell_type": "markdown",
   "metadata": {
    "id": "1y8614mBTyNd"
   },
   "source": [
    "#### Since we need to control input size, we can calculate the average word count and the ratio of that over 600 words."
   ]
  },
  {
   "cell_type": "code",
   "execution_count": null,
   "metadata": {
    "colab": {
     "base_uri": "https://localhost:8080/",
     "height": 1000
    },
    "id": "qtIX1JABh7f3",
    "outputId": "f4a0901f-b8ef-4868-afdb-b4c2d497ea85"
   },
   "outputs": [
    {
     "name": "stdout",
     "output_type": "stream",
     "text": [
      "Average word count: 233.7872\n",
      "Percentage of reviews with word count between 0 and 100: 11.70%\n",
      "Percentage of reviews with word count between 100 and 200: 46.62%\n",
      "Percentage of reviews with word count between 200 and 300: 18.66%\n",
      "Percentage of reviews with word count between 300 and 400: 9.54%\n",
      "Percentage of reviews with word count between 400 and 500: 5.36%\n",
      "Percentage of reviews with word count between 500 and 600: 3.14%\n",
      "Percentage of reviews with word count between 600 and 700: 1.86%\n",
      "Percentage of reviews with word count between 700 and 800: 1.23%\n",
      "Percentage of reviews with word count between 800 and 900: 0.80%\n",
      "Percentage of reviews with word count between 900 and 1000: 0.85%\n",
      "Percentage of reviews with word count between 1000 and 1100: 0.16%\n",
      "Percentage of reviews with word count between 1100 and 1200: 0.02%\n",
      "Percentage of reviews with word count between 1200 and 1300: 0.01%\n",
      "Percentage of reviews with word count between 1300 and 1400: 0.02%\n",
      "Percentage of reviews with word count between 1400 and 1500: 0.00%\n",
      "Percentage of reviews with word count between 1500 and 1600: 0.01%\n",
      "Percentage of reviews with word count between 1600 and 1700: 0.00%\n",
      "Percentage of reviews with word count between 1700 and 1800: 0.00%\n",
      "Percentage of reviews with word count between 1800 and 1900: 0.01%\n",
      "Percentage of reviews with word count between 1900 and 2000: 0.00%\n",
      "Percentage of reviews with word count between 2000 and 2100: 0.00%\n",
      "Percentage of reviews with word count between 2100 and 2200: 0.00%\n",
      "Percentage of reviews with word count between 2200 and 2300: 0.00%\n",
      "Percentage of reviews with word count between 2300 and 2400: 0.00%\n",
      "Percentage of reviews with word count between 2400 and 2470: 0.00%\n",
      "Percentage of reviews over 600 words: 4.96%\n"
     ]
    },
    {
     "data": {
      "image/png": "[encoded data removed]",
      "text/plain": [
       "<Figure size 1400x700 with 1 Axes>"
      ]
     },
     "metadata": {},
     "output_type": "display_data"
    }
   ],
   "source": [
    "# idea from \"https://www.kaggle.com/code/derrelldsouza/imdb-sentiment-analysis-eda-ml-lstm-bert?kernelSessionId=68871348\"\n",
    "# codes from ChatGPT 4, 23/12~31/12, 2023\n",
    "\n",
    "# count the number of words in each comment\n",
    "df['word_count'] = df['review'].apply(lambda x: len(x.split()))\n",
    "\n",
    "# calculate the average number of words\n",
    "average_word_count = df['word_count'].mean()\n",
    "print(f\"Average word count: {average_word_count}\")\n",
    "\n",
    "# calculate the percentage of comments in an interval of 100 words\n",
    "word_count_bins = list(range(0, max(df['word_count']), 100)) + [max(df['word_count'])]\n",
    "word_count_hist = np.histogram(df['word_count'], bins=word_count_bins)\n",
    "bin_edges = word_count_hist[1]\n",
    "bin_counts = word_count_hist[0]\n",
    "\n",
    "# print the percentage of comments for each range\n",
    "for i in range(len(bin_edges)-1):\n",
    "    bin_percentage = (bin_counts[i] / df.shape[0]) * 100\n",
    "    print(f\"Percentage of reviews with word count between {bin_edges[i]} and {bin_edges[i+1]}: {bin_percentage:.2f}%\")\n",
    "\n",
    "# calculate the proportion of reviews longer than 600 words\n",
    "over_600_words = df[df['word_count'] > 600].shape[0]\n",
    "percentage_over_600 = (over_600_words / df.shape[0]) * 100\n",
    "print(f\"Percentage of reviews over 600 words: {percentage_over_600:.2f}%\")\n",
    "\n",
    "# plot words distribution histogram with mean, median and mode\n",
    "plt.figure(figsize=(14, 7))\n",
    "n, bins, patches = plt.hist(df['word_count'], bins=20, color='blue', alpha=0.7, rwidth=0.85, density=True)\n",
    "\n",
    "# add mean, median and mode lines\n",
    "plt.axvline(average_word_count, color='g', linestyle='dashed', linewidth=2, label=f'Mean: {average_word_count:.2f}')\n",
    "median_val = np.median(df['word_count'])\n",
    "mode_val = df['word_count'].mode().values[0]\n",
    "plt.axvline(median_val, color='r', linestyle='dashed', linewidth=2, label=f'Median: {median_val:.2f}')\n",
    "plt.axvline(mode_val, color='orange', linestyle='dashed', linewidth=2, label=f'Mode: {mode_val:.2f}')\n",
    "plt.legend()\n",
    "\n",
    "# calculate and plot the fitted probability density function\n",
    "density = norm.pdf(bins, average_word_count, np.std(df['word_count']))\n",
    "plt.plot(bins, density, color='black')\n",
    "\n",
    "# set title and axis labels\n",
    "plt.title('Words per review distribution')\n",
    "plt.xlabel('Words in review')\n",
    "plt.ylabel('Density')\n",
    "\n",
    "# plot grid and chart\n",
    "plt.grid(True)\n",
    "plt.show()\n"
   ]
  },
  {
   "cell_type": "markdown",
   "metadata": {
    "id": "qa6_vg4QRRQj"
   },
   "source": [
    "## Everything is ready. Let's get started to train our models!"
   ]
  },
  {
   "cell_type": "markdown",
   "metadata": {
    "id": "Pgi_lmuinTl9"
   },
   "source": [
    "# 7. Models for IMDB movie revview classification"
   ]
  },
  {
   "cell_type": "markdown",
   "metadata": {
    "id": "pvymCfK5R5za"
   },
   "source": [
    "## Processing words as a sequence: The sequence model approach (DLWP 11.3.3)"
   ]
  },
  {
   "cell_type": "markdown",
   "metadata": {
    "id": "F8txYbhb_tNt"
   },
   "source": [
    "#### Vectorizing the data\n",
    "##### ***Listing 11.12***: \"In order to keep a manageable input size*, we’ll truncate the inputs after the first 600 words. This is a reasonable choice, since the average review length is 233 words, and only 5% of reviews are longer than 600 words.\""
   ]
  },
  {
   "cell_type": "code",
   "execution_count": null,
   "metadata": {
    "id": "XecyFPKf_vHL"
   },
   "outputs": [],
   "source": [
    "# codes from Jérémie's ARTIFICIAL INTELLIGENCE (2023-24), Goldsmiths\n",
    "# codes from Ch.11, DLWP\n",
    "\n",
    "max_length = 600                        # words in reviews; if the words amount of a review is lower than 600, padding to 600 with 0\n",
    "max_tokens = 20000                      # align with \"vocab_size = 20000\" in the embeding layer of Transformer encoder\n",
    "text_vectorization = tf.keras.layers.TextVectorization(\n",
    "    max_tokens=max_tokens,\n",
    "    output_mode=\"int\",\n",
    "    output_sequence_length=max_length,  # manage input size here.*\n",
    ")\n",
    "text_vectorization.adapt(text_only_train_ds)\n",
    "\n",
    "# DLWP 11.2-4, ensure operation runs in the tf.data workflow to get higher efficiency if we train models on GPU or TPU.\n",
    "int_train_ds = train_ds.map(\n",
    "    lambda x, y: (text_vectorization(x), y),\n",
    "    num_parallel_calls=4)\n",
    "int_val_ds = val_ds.map(\n",
    "    lambda x, y: (text_vectorization(x), y),\n",
    "    num_parallel_calls=4)\n",
    "int_test_ds = test_ds.map(\n",
    "    lambda x, y: (text_vectorization(x), y),\n",
    "    num_parallel_calls=4)"
   ]
  },
  {
   "cell_type": "markdown",
   "metadata": {
    "id": "4IyL-IrF61iW"
   },
   "source": [
    "#### View vocabulary\n",
    "#### According to ***DLWP 11.2.3***, some vacabulary may not exsit in our list, that's because it is extremly rare or it is not in the training data, hence we use an index to the use an “out of vocabulary” index (abbreviated as OOV index)—a catch-all for any token that wasn’t in the index.OOV token usually takes place as (index 1), and the mask token as (index 0), so we can find the first 2 vocabulary is '' and [UNK]."
   ]
  },
  {
   "cell_type": "code",
   "execution_count": null,
   "metadata": {
    "colab": {
     "base_uri": "https://localhost:8080/"
    },
    "id": "vXFciuY36vHE",
    "outputId": "11b4ea20-0e90-4f9c-9881-64f7eb4ed892"
   },
   "outputs": [
    {
     "name": "stdout",
     "output_type": "stream",
     "text": [
      "['', '[UNK]', 'the', 'and', 'a', 'of', 'to', 'is', 'in', 'it', 'i', 'this', 'that', 'br', 'was', 'as', 'for', 'with', 'but', 'movie', 'film', 'on', 'not', 'are', 'you', 'his', 'have', 'he', 'be', 'one', 'its', 'at', 'all', 'by', 'an', 'they', 'who', 'from', 'so', 'like', 'her', 'or', 'just', 'about', 'has', 'if', 'out', 'some', 'there', 'what', 'good', 'more', 'when', 'very', 'even', 'my', 'no', 'she', 'up', 'would', 'which', 'only', 'time', 'really', 'story', 'their', 'were', 'see', 'had', 'can', 'me', 'than', 'we', 'much', 'well', 'get', 'been', 'also', 'into', 'will', 'other', 'because', 'people', 'bad', 'first', 'do', 'great', 'how', 'most', 'dont', 'him', 'made', 'then', 'movies', 'films', 'any', 'make', 'could', 'them', 'way']\n"
     ]
    }
   ],
   "source": [
    "# idea from \"https://www.kaggle.com/code/lakshmi25npathi/sentiment-analysis-of-imdb-movie-reviews?kernelSessionId=40627787\"\n",
    "\n",
    "vocabulary = text_vectorization.get_vocabulary()\n",
    "print(vocabulary[:100])"
   ]
  },
  {
   "cell_type": "markdown",
   "metadata": {
    "id": "RPG25tYD-Ux9"
   },
   "source": [
    "---\n",
    "\n",
    "## 7-1. The Transformer architecture"
   ]
  },
  {
   "cell_type": "markdown",
   "metadata": {
    "id": "o2IPyiwu_3Fj"
   },
   "source": [
    "#### The Transformer encoder implemented as a subclassed `Layer`\n",
    "\n",
    "##### The dimension of the embedding vector is `embed_dim` and there are `num_heads` heads. For each head, each input vector will be divided into small segments of length `embed_dim` / `num_heads`. E.g. 256 / 4 = 64(works), 250 / 4 = 62.5(doesn't work).\n",
    "\n",
    "##### DLWP 9.3.3, 11.4.3 Prevents the vanishing gradient problem and maintains feature stability in the deep layers of the network, thereby promoting efficient training of deeper Transformer models. In this way, layer normalization helps the model learn long-distance dependencies better\n",
    "\n",
    "##### Padding Mask: This type of mask is used to mask (ie ignore) padding tokens in the input sequence. In text processing, it is common to use special padding tokens such as [PAD] to ensure that all sequences are of the same length. When computing attention, we do not want the model to process these filler tokens as valid inputs because they do not carry any meaningful information. The fill mask is used to set the attention weights at these locations to 0, ensuring that the model's attention is only focused on non-fill tokens.\n",
    "\n",
    "##### Look-Ahead Mask (or Decoder Mask): This type of mask is used in the decoder part to prevent the model from \"peeping\" at future tokens when generating output. In sequence generation tasks (such as text generation), the model needs to generate output step by step and should only rely on previous tokens. The lookahead mask ensures that the model does not have access to information about subsequent tokens when calculating attention for the current token.\n",
    "\n",
    "##### Expand the mask in the appropriate dimensions (using tf.newaxis) and apply it to the multi-head attention layer.\n",
    "\n",
    "##### Since different comments may be of different lengths when dealing with text data, special padding symbols such as \"[PAD]\" are often used to ensure that all input sequences are of the same length. In this case, using a fill mask can help the model ignore the positions occupied by these fill symbols, ensuring that the model's attention mechanism only focuses on meaningful content.\n",
    "\n",
    "##### In a task like IMDB sentiment classification, our model needs to look at and consider all words in the input sequence (except filler symbols) to understand the overall sentimental disposition. Therefore, there is no need to prevent the model from \"seeing\" any specific part of the sequence, which is what lookahead masking does in sequence generation tasks."
   ]
  },
  {
   "cell_type": "code",
   "execution_count": null,
   "metadata": {
    "id": "OrFD_bom_5ZG"
   },
   "outputs": [],
   "source": [
    "# codes from Jérémie's ARTIFICIAL INTELLIGENCE (2023-24), Goldsmiths\n",
    "# codes from Ch.11, DLWP\n",
    "\n",
    "class TransformerEncoder(tf.keras.layers.Layer):                 # DLWP Listing 11.21\n",
    "    def __init__(self, embed_dim, dense_dim, num_heads, **kwargs):  # **kwargs: keyword arguments\n",
    "        super().__init__(**kwargs)\n",
    "        self.embed_dim = embed_dim                               # Parameters!\n",
    "        self.dense_dim = dense_dim                               # ! embed_dim % num_head must be zero! (divisibility)\n",
    "        self.num_heads = num_heads\n",
    "        self.attention = tf.keras.layers.MultiHeadAttention(     # Multi-head-attention, DLWP 11.4.2; able to process query, key, and value\n",
    "            num_heads=num_heads, key_dim=embed_dim\n",
    "        )\n",
    "        self.dense_proj = tf.keras.Sequential(                   # dense layer on top: like a nonlinearity; \"top\" means above the order in the model's architectural hierarchy. In other words, these dense layers are performed after the multi-head attention layer and are therefore called \"on top\".\n",
    "            [tf.keras.layers.Dense(dense_dim, activation=\"relu\"),# Introduce ReLU to ease the level of vanishing gradient,\n",
    "             tf.keras.layers.Dense(embed_dim),]                  # for ReLU(x)=max(0,x): if x>0, outputs=1; if x<=0, outputs=0\n",
    "        )\n",
    "        self.layernorm_1 = tf.keras.layers.LayerNormalization()  # layer norm; DLWP 9.3.3, 11.4.3\n",
    "        self.layernorm_2 = tf.keras.layers.LayerNormalization()  # default apllied on the last dim (not the whole layer)\n",
    "\n",
    "    def call(self, inputs, mask=None):                           # We use padding by \"max_length = 600\" in \"Vectorize the data\"\n",
    "        if mask is not None:                                     # optional mask (used in the decoder, see\n",
    "            mask = mask[:, tf.newaxis, :]                        # translation notebook for an analysis, Or, since the data has been padded, we therefore keep these codes)\n",
    "        attention_output = self.attention(\n",
    "            inputs, inputs, attention_mask=mask                  # We acutally use only two inputs: query for an input; value and key for an input\n",
    "        )\n",
    "        proj_input = self.layernorm_1(inputs + attention_output) # inputs + attn: residual connection, DLWP 9.3.2, to solve the problem of \"vanishing gradient\" by adding the input of a layer add back to its output\n",
    "        proj_output = self.dense_proj(proj_input)                # Dense layer on top: like a nonlinearity; \"top\" means above the order in the model's architectural hierarchy.\n",
    "        return self.layernorm_2(proj_input + proj_output)        #  In other words, these dense layers are performed after the multi-head attention layer and are therefore called \"on top\".\n",
    "\n",
    "    def get_config(self):                                        # retrieve config as a dict\n",
    "        config = super().get_config()                            # (required for Keras layers)\n",
    "        config.update({                                          # If we excute x=TransformerEncoder(embed_dim=256, num_heads=2, dense_dim=32),\n",
    "            \"embed_dim\": self.embed_dim,                         #  the returned dictionary includes (embed_dim=256, num_heads=2, dense_dim=32).\n",
    "            \"num_heads\": self.num_heads,                         # For example: layer=PositionalEmbedding(sequence_length,input_dim,output_dim)\n",
    "            \"dense_dim\": self.dense_dim,                         #  config=layer.get_config()\n",
    "        })                                                       #  new_layer=PositionalEmbedding(sequence_length,input_dim,output_dim) (same configuration)\n",
    "        return config\n"
   ]
  },
  {
   "cell_type": "markdown",
   "metadata": {
    "id": "-is0WOwm_8zq"
   },
   "source": [
    "#### DLWP `Listing 11.25`Using the Transformer encoder for text classification"
   ]
  },
  {
   "cell_type": "code",
   "execution_count": null,
   "metadata": {
    "colab": {
     "base_uri": "https://localhost:8080/"
    },
    "id": "acIkOlxh_9_k",
    "outputId": "fa8242bc-9b3e-4be9-c45b-80e6ccdc63f2"
   },
   "outputs": [
    {
     "name": "stdout",
     "output_type": "stream",
     "text": [
      "Model: \"model\"\n",
      "_________________________________________________________________\n",
      " Layer (type)                Output Shape              Param #   \n",
      "=================================================================\n",
      " input_1 (InputLayer)        [(None, None)]            0         \n",
      "                                                                 \n",
      " embedding (Embedding)       (None, None, 256)         5120000   \n",
      "                                                                 \n",
      " transformer_encoder (Trans  (None, None, 256)         543776    \n",
      " formerEncoder)                                                  \n",
      "                                                                 \n",
      " global_max_pooling1d (Glob  (None, 256)               0         \n",
      " alMaxPooling1D)                                                 \n",
      "                                                                 \n",
      " dropout (Dropout)           (None, 256)               0         \n",
      "                                                                 \n",
      " dense_2 (Dense)             (None, 1)                 257       \n",
      "                                                                 \n",
      "=================================================================\n",
      "Total params: 5664033 (21.61 MB)\n",
      "Trainable params: 5664033 (21.61 MB)\n",
      "Non-trainable params: 0 (0.00 Byte)\n",
      "_________________________________________________________________\n"
     ]
    }
   ],
   "source": [
    "# codes from Jérémie's ARTIFICIAL INTELLIGENCE (2023-24), Goldsmiths\n",
    "# codes from Ch.11, DLWP\n",
    "\n",
    "vocab_size = 20000 # Align with \"max_size = 20000\" in the Vectorizing the data because we need to ensure the text vectorization to embedding is same.\n",
    "embed_dim = 256    # Divisibility by hum_heads\n",
    "num_heads = 2\n",
    "dense_dim = 32\n",
    "\n",
    "inputs = tf.keras.Input(shape=(None,), dtype=\"int64\")\n",
    "x = tf.keras.layers.Embedding(vocab_size, embed_dim)(inputs) # 1. Regular embeddings\n",
    "x = TransformerEncoder(embed_dim, dense_dim, num_heads)(x)   # 2. Transformer encoder, only 1 layer\n",
    "x = tf.keras.layers.GlobalMaxPooling1D()(x)                  # (reduce full sequence to a single vector...)\n",
    "x = tf.keras.layers.Dropout(0.5)(x)\n",
    "outputs = tf.keras.layers.Dense(1, activation=\"sigmoid\")(x)  # the output of sigmoid is between 0 to 1, making it is suitable for binary classification task\n",
    "model = tf.keras.Model(inputs, outputs)\n",
    "model.compile(\n",
    "    optimizer=\"rmsprop\",\n",
    "    loss=\"binary_crossentropy\",\n",
    "    metrics=[\"accuracy\"]\n",
    ")\n",
    "model.summary()"
   ]
  },
  {
   "cell_type": "markdown",
   "metadata": {
    "id": "J7HYThD4AOQm"
   },
   "source": [
    "### Training and evaluating the Transformer encoder based model\n",
    "#### T100 GPU is 20 minutes faster than process by T4 GPU.\n",
    "#### According to our definition of overfitting, training loss is steady decrease but also steady increase invalidation loss. Moreover, training accuracy is steady increase in, but the validation accuracy is jumping back and forth and even decreaed in the last few epoch. We can conclude that it is overfitting."
   ]
  },
  {
   "cell_type": "code",
   "execution_count": null,
   "metadata": {
    "colab": {
     "base_uri": "https://localhost:8080/"
    },
    "id": "_yu2oOqtAPku",
    "outputId": "fdfdf0f9-d38c-482e-d8b0-0becb620818f"
   },
   "outputs": [
    {
     "name": "stdout",
     "output_type": "stream",
     "text": [
      "Epoch 1/20\n",
      "625/625 [==============================] - 40s 57ms/step - loss: 0.5081 - accuracy: 0.7596 - val_loss: 0.3499 - val_accuracy: 0.8450\n"
     ]
    },
    {
     "name": "stderr",
     "output_type": "stream",
     "text": [
      "/usr/local/lib/python3.10/dist-packages/keras/src/engine/training.py:3103: UserWarning: You are saving your model as an HDF5 file via `model.save()`. This file format is considered legacy. We recommend using instead the native Keras format, e.g. `model.save('my_model.keras')`.\n",
      "  saving_api.save_model(\n"
     ]
    },
    {
     "name": "stdout",
     "output_type": "stream",
     "text": [
      "Epoch 2/20\n",
      "625/625 [==============================] - 25s 40ms/step - loss: 0.3499 - accuracy: 0.8469 - val_loss: 0.3277 - val_accuracy: 0.8618\n",
      "Epoch 3/20\n",
      "625/625 [==============================] - 22s 34ms/step - loss: 0.3121 - accuracy: 0.8676 - val_loss: 0.3136 - val_accuracy: 0.8656\n",
      "Epoch 4/20\n",
      "625/625 [==============================] - 19s 30ms/step - loss: 0.2857 - accuracy: 0.8801 - val_loss: 0.3081 - val_accuracy: 0.8702\n",
      "Epoch 5/20\n",
      "625/625 [==============================] - 18s 28ms/step - loss: 0.2577 - accuracy: 0.8931 - val_loss: 0.3071 - val_accuracy: 0.8698\n",
      "Epoch 6/20\n",
      "625/625 [==============================] - 17s 27ms/step - loss: 0.2319 - accuracy: 0.9056 - val_loss: 0.3290 - val_accuracy: 0.8658\n",
      "Epoch 7/20\n",
      "625/625 [==============================] - 17s 27ms/step - loss: 0.2059 - accuracy: 0.9183 - val_loss: 0.3161 - val_accuracy: 0.8696\n",
      "Epoch 8/20\n",
      "625/625 [==============================] - 17s 27ms/step - loss: 0.1777 - accuracy: 0.9303 - val_loss: 0.3207 - val_accuracy: 0.8714\n",
      "Epoch 9/20\n",
      "625/625 [==============================] - 17s 26ms/step - loss: 0.1543 - accuracy: 0.9414 - val_loss: 0.3358 - val_accuracy: 0.8730\n",
      "Epoch 10/20\n",
      "625/625 [==============================] - 17s 27ms/step - loss: 0.1299 - accuracy: 0.9521 - val_loss: 0.3741 - val_accuracy: 0.8696\n",
      "Epoch 11/20\n",
      "625/625 [==============================] - 16s 26ms/step - loss: 0.1118 - accuracy: 0.9589 - val_loss: 0.3797 - val_accuracy: 0.8740\n",
      "Epoch 12/20\n",
      "625/625 [==============================] - 16s 26ms/step - loss: 0.0924 - accuracy: 0.9658 - val_loss: 0.3821 - val_accuracy: 0.8650\n",
      "Epoch 13/20\n",
      "625/625 [==============================] - 16s 26ms/step - loss: 0.0734 - accuracy: 0.9736 - val_loss: 0.4226 - val_accuracy: 0.8678\n",
      "Epoch 14/20\n",
      "625/625 [==============================] - 17s 27ms/step - loss: 0.0605 - accuracy: 0.9802 - val_loss: 0.4467 - val_accuracy: 0.8664\n",
      "Epoch 15/20\n",
      "625/625 [==============================] - 16s 26ms/step - loss: 0.0448 - accuracy: 0.9845 - val_loss: 0.4759 - val_accuracy: 0.8622\n",
      "Epoch 16/20\n",
      "625/625 [==============================] - 16s 26ms/step - loss: 0.0392 - accuracy: 0.9861 - val_loss: 0.4912 - val_accuracy: 0.8620\n",
      "Epoch 17/20\n",
      "625/625 [==============================] - 16s 26ms/step - loss: 0.0333 - accuracy: 0.9879 - val_loss: 0.6192 - val_accuracy: 0.8570\n",
      "Epoch 18/20\n",
      "625/625 [==============================] - 16s 26ms/step - loss: 0.0293 - accuracy: 0.9902 - val_loss: 0.6233 - val_accuracy: 0.8618\n",
      "Epoch 19/20\n",
      "625/625 [==============================] - 17s 27ms/step - loss: 0.0281 - accuracy: 0.9898 - val_loss: 0.6714 - val_accuracy: 0.8472\n",
      "Epoch 20/20\n",
      "625/625 [==============================] - 17s 27ms/step - loss: 0.0249 - accuracy: 0.9913 - val_loss: 0.7332 - val_accuracy: 0.8490\n"
     ]
    }
   ],
   "source": [
    "# codes from Jérémie's ARTIFICIAL INTELLIGENCE (2023-24), Goldsmiths\n",
    "\n",
    "callbacks = [\n",
    "    tf.keras.callbacks.ModelCheckpoint(\n",
    "        str(base_dir / \"transformer_encoder.h5\"),\n",
    "        save_best_only=True\n",
    "\n",
    "    )\n",
    "]\n",
    "history = model.fit(\n",
    "    int_train_ds,\n",
    "    validation_data=int_val_ds,\n",
    "    epochs=20,\n",
    "    callbacks=callbacks\n",
    ")"
   ]
  },
  {
   "cell_type": "code",
   "execution_count": null,
   "metadata": {
    "id": "XYIiJi-bB2f3"
   },
   "outputs": [],
   "source": [
    "# codes from Jérémie's ARTIFICIAL INTELLIGENCE (2023-24), Goldsmiths\n",
    "\n",
    "def plot_history(history):\n",
    "    fig, (ax1, ax2) = plt.subplots(1,2, figsize=(12,4))\n",
    "    loss = history.history[\"loss\"]\n",
    "    val_loss = history.history[\"val_loss\"]\n",
    "    acc = history.history[\"accuracy\"]\n",
    "    val_acc = history.history[\"val_accuracy\"]\n",
    "    epochs = range(1, len(loss) + 1)\n",
    "    ax1.plot(epochs, loss, label=\"Training\")\n",
    "    ax1.plot(epochs, val_loss, label=\"Validation\")\n",
    "    ax1.set_title(\"Training and validation loss\")\n",
    "    ax1.legend()\n",
    "    ax2.plot(epochs, acc, label=\"Training\")\n",
    "    ax2.plot(epochs, val_acc, label=\"Validation\")\n",
    "    ax2.set_title(\"Training and validation accuracy\")\n",
    "    ax2.legend()\n",
    "    plt.show()"
   ]
  },
  {
   "cell_type": "code",
   "execution_count": null,
   "metadata": {
    "colab": {
     "base_uri": "https://localhost:8080/",
     "height": 391
    },
    "id": "y3Pno8UxB4i6",
    "outputId": "d104def4-d47b-4020-8e9f-16843311dbc4"
   },
   "outputs": [
    {
     "data": {
      "image/png": "[encoded data removed]",
      "text/plain": [
       "<Figure size 1200x400 with 2 Axes>"
      ]
     },
     "metadata": {},
     "output_type": "display_data"
    }
   ],
   "source": [
    "plot_history(history) # a LOT of overfitting"
   ]
  },
  {
   "cell_type": "markdown",
   "metadata": {
    "id": "akTw_bvLpet_"
   },
   "source": [
    "#### We should run evaluate on out last model,but we want to see if it is affecting the test accuracy even if there's so many overfitting. The test accuracy is 0.871, which is not bad. But could we do better?"
   ]
  },
  {
   "cell_type": "code",
   "execution_count": null,
   "metadata": {
    "colab": {
     "base_uri": "https://localhost:8080/"
    },
    "id": "PXGZ7DY7nzBN",
    "outputId": "b56c9db3-d18c-441d-a891-ce76302aa786"
   },
   "outputs": [
    {
     "name": "stdout",
     "output_type": "stream",
     "text": [
      "782/782 [==============================] - 11s 14ms/step - loss: 0.3033 - accuracy: 0.8709\n",
      "Test acc: 0.871\n"
     ]
    }
   ],
   "source": [
    "# codes from Jérémie's ARTIFICIAL INTELLIGENCE (2023-24), Goldsmiths\n",
    "# codes from Ch.11, DLWP\n",
    "\n",
    "model = tf.keras.models.load_model(                             # DLWP 11.4.3\n",
    "    str(base_dir / \"transformer_encoder.h5\"),\n",
    "    custom_objects={\"TransformerEncoder\": TransformerEncoder}\n",
    ")\n",
    "print(f\"Test acc: {model.evaluate(int_test_ds)[1]:.3f}\")"
   ]
  },
  {
   "cell_type": "markdown",
   "metadata": {
    "id": "bDsPtc-gCN4q"
   },
   "source": [
    "## 7-2. Implementing positional embedding as a subclassed layer\n",
    "#### The previous transformer doesn't consider words sequence. Since Transformer is a hybrid approach, we can manually add sequence information by the positional encoding."
   ]
  },
  {
   "cell_type": "code",
   "execution_count": null,
   "metadata": {
    "id": "TXcvvaRnCOl4"
   },
   "outputs": [],
   "source": [
    "# codes from Jérémie's ARTIFICIAL INTELLIGENCE (2023-24), Goldsmiths\n",
    "# codes from Ch.11, DLWP\n",
    "\n",
    "class PositionalEmbedding(tf.keras.layers.Layer): # Listing 11.24\n",
    "    def __init__(self, sequence_length, input_dim, output_dim, **kwargs):   # Need to know the sequence length first\n",
    "        super().__init__(**kwargs)\n",
    "        self.token_embeddings = tf.keras.layers.Embedding(       # token embeddings: semantic information\n",
    "            input_dim=input_dim, output_dim=output_dim           # (input_dim = vocab_dim, tokens are integers)\n",
    "        )\n",
    "        self.position_embeddings = tf.keras.layers.Embedding(    # position embeddings: syntactic/spatial information\n",
    "            input_dim=sequence_length, output_dim=output_dim     # (input_dim = seq_len, instead of tokens, this\n",
    "        )                                                        # learns one embedding per sequence *position*)\n",
    "        self.sequence_length = sequence_length                   # store those params\n",
    "        self.input_dim = input_dim\n",
    "        self.output_dim = output_dim\n",
    "\n",
    "    def call(self, inputs):\n",
    "        length = tf.shape(inputs)[-1]\n",
    "        embedded_tokens = self.token_embeddings(inputs)          # 1. create token embeddings\n",
    "                                                                 # 2. create pos embeddings\n",
    "        positions = tf.range(start=0, limit=length, delta=1)     #    (as many as our input length, delta: step size)\n",
    "        embedded_positions = self.position_embeddings(positions)\n",
    "\n",
    "        return embedded_tokens + embedded_positions              # 3. Both embeddings are simply combined together.\n",
    "\n",
    "    def compute_mask(self, inputs, mask=None):                   # Turns int sequences into a mask (ignore all 0), example:\n",
    "        return tf.math.not_equal(inputs, 0)                      # [ 12   3    54   3    0     0     ]\n",
    "                                                                 # [ True True True True False False ]\n",
    "\n",
    "    def get_config(self):                                        # retrieve config as a dict\n",
    "        config = super().get_config()                            # (required for Keras layers)\n",
    "        config.update({\n",
    "            \"output_dim\": self.output_dim,\n",
    "            \"sequence_length\": self.sequence_length,\n",
    "            \"input_dim\": self.input_dim,\n",
    "        })\n",
    "        return config"
   ]
  },
  {
   "cell_type": "markdown",
   "metadata": {
    "id": "kWpEuF3CCbS1"
   },
   "source": [
    "### 7-2-1. Combining the Transformer encoder with positional embedding\n",
    "#### The test accuracy is 0.884, which is better than the model without positional embedding."
   ]
  },
  {
   "cell_type": "code",
   "execution_count": null,
   "metadata": {
    "colab": {
     "base_uri": "https://localhost:8080/"
    },
    "id": "o3wrXrwcCdlK",
    "outputId": "21730ec2-73e1-433b-a1c7-df3631a1be16"
   },
   "outputs": [
    {
     "name": "stdout",
     "output_type": "stream",
     "text": [
      "Model: \"model_1\"\n",
      "_________________________________________________________________\n",
      " Layer (type)                Output Shape              Param #   \n",
      "=================================================================\n",
      " input_2 (InputLayer)        [(None, None)]            0         \n",
      "                                                                 \n",
      " positional_embedding (Posi  (None, None, 256)         5273600   \n",
      " tionalEmbedding)                                                \n",
      "                                                                 \n",
      " transformer_encoder_1 (Tra  (None, None, 256)         543776    \n",
      " nsformerEncoder)                                                \n",
      "                                                                 \n",
      " global_max_pooling1d_1 (Gl  (None, 256)               0         \n",
      " obalMaxPooling1D)                                               \n",
      "                                                                 \n",
      " dropout_1 (Dropout)         (None, 256)               0         \n",
      "                                                                 \n",
      " dense_7 (Dense)             (None, 1)                 257       \n",
      "                                                                 \n",
      "=================================================================\n",
      "Total params: 5817633 (22.19 MB)\n",
      "Trainable params: 5817633 (22.19 MB)\n",
      "Non-trainable params: 0 (0.00 Byte)\n",
      "_________________________________________________________________\n"
     ]
    }
   ],
   "source": [
    "# codes from Jérémie's ARTIFICIAL INTELLIGENCE (2023-24), Goldsmiths\n",
    "# codes from Ch.11, DLWP\n",
    "\n",
    "vocab_size = 20000\n",
    "sequence_length = 600\n",
    "embed_dim = 256\n",
    "num_heads = 2\n",
    "dense_dim = 32\n",
    "\n",
    "inputs = tf.keras.Input(shape=(None,), dtype=\"int64\")\n",
    "x = PositionalEmbedding(sequence_length, vocab_size, embed_dim)(inputs) # 1. Positional embeddings\n",
    "x = TransformerEncoder(embed_dim, dense_dim, num_heads)(x)              # 2. Transformer encoder\n",
    "x = tf.keras.layers.GlobalMaxPooling1D()(x)                             #    (reduce full sequence to a vector)\n",
    "x = tf.keras.layers.Dropout(0.5)(x)\n",
    "outputs = tf.keras.layers.Dense(1, activation=\"sigmoid\")(x)\n",
    "model = tf.keras.Model(inputs, outputs)\n",
    "model.compile(\n",
    "    optimizer=\"rmsprop\",\n",
    "    loss=\"binary_crossentropy\",\n",
    "    metrics=[\"accuracy\"]\n",
    ")\n",
    "model.summary()"
   ]
  },
  {
   "cell_type": "code",
   "execution_count": null,
   "metadata": {
    "colab": {
     "base_uri": "https://localhost:8080/"
    },
    "id": "yV9-VejtCiMM",
    "outputId": "448dfd4d-53bf-436a-82c3-5de9af598955"
   },
   "outputs": [
    {
     "name": "stdout",
     "output_type": "stream",
     "text": [
      "Epoch 1/20\n",
      "625/625 [==============================] - 39s 59ms/step - loss: 0.5355 - accuracy: 0.7393 - val_loss: 0.3208 - val_accuracy: 0.8666\n",
      "Epoch 2/20\n",
      "625/625 [==============================] - 26s 41ms/step - loss: 0.3024 - accuracy: 0.8732 - val_loss: 0.2897 - val_accuracy: 0.8788\n",
      "Epoch 3/20\n",
      "625/625 [==============================] - 21s 34ms/step - loss: 0.2367 - accuracy: 0.9050 - val_loss: 0.2763 - val_accuracy: 0.8850\n",
      "Epoch 4/20\n",
      "625/625 [==============================] - 19s 30ms/step - loss: 0.1959 - accuracy: 0.9219 - val_loss: 0.3114 - val_accuracy: 0.8824\n",
      "Epoch 5/20\n",
      "625/625 [==============================] - 19s 30ms/step - loss: 0.1668 - accuracy: 0.9362 - val_loss: 0.3593 - val_accuracy: 0.8770\n",
      "Epoch 6/20\n",
      "625/625 [==============================] - 18s 29ms/step - loss: 0.1411 - accuracy: 0.9474 - val_loss: 0.3531 - val_accuracy: 0.8840\n",
      "Epoch 7/20\n",
      "625/625 [==============================] - 18s 29ms/step - loss: 0.1174 - accuracy: 0.9565 - val_loss: 0.4098 - val_accuracy: 0.8770\n",
      "Epoch 8/20\n",
      "625/625 [==============================] - 18s 28ms/step - loss: 0.0946 - accuracy: 0.9654 - val_loss: 0.3615 - val_accuracy: 0.8756\n",
      "Epoch 9/20\n",
      "625/625 [==============================] - 17s 28ms/step - loss: 0.0816 - accuracy: 0.9701 - val_loss: 0.4331 - val_accuracy: 0.8758\n",
      "Epoch 10/20\n",
      "625/625 [==============================] - 17s 27ms/step - loss: 0.0614 - accuracy: 0.9787 - val_loss: 0.6216 - val_accuracy: 0.8742\n",
      "Epoch 11/20\n",
      "625/625 [==============================] - 18s 28ms/step - loss: 0.0493 - accuracy: 0.9825 - val_loss: 0.7903 - val_accuracy: 0.8686\n",
      "Epoch 12/20\n",
      "625/625 [==============================] - 17s 28ms/step - loss: 0.0414 - accuracy: 0.9865 - val_loss: 0.7012 - val_accuracy: 0.8690\n",
      "Epoch 13/20\n",
      "625/625 [==============================] - 17s 27ms/step - loss: 0.0339 - accuracy: 0.9875 - val_loss: 0.7959 - val_accuracy: 0.8676\n",
      "Epoch 14/20\n",
      "625/625 [==============================] - 17s 28ms/step - loss: 0.0261 - accuracy: 0.9916 - val_loss: 1.0166 - val_accuracy: 0.8676\n",
      "Epoch 15/20\n",
      "625/625 [==============================] - 17s 27ms/step - loss: 0.0194 - accuracy: 0.9937 - val_loss: 1.0778 - val_accuracy: 0.8626\n",
      "Epoch 16/20\n",
      "625/625 [==============================] - 17s 27ms/step - loss: 0.0195 - accuracy: 0.9935 - val_loss: 1.1526 - val_accuracy: 0.8728\n",
      "Epoch 17/20\n",
      "625/625 [==============================] - 17s 27ms/step - loss: 0.0184 - accuracy: 0.9942 - val_loss: 1.0230 - val_accuracy: 0.8596\n",
      "Epoch 18/20\n",
      "625/625 [==============================] - 17s 27ms/step - loss: 0.0126 - accuracy: 0.9956 - val_loss: 0.9866 - val_accuracy: 0.8734\n",
      "Epoch 19/20\n",
      "625/625 [==============================] - 17s 27ms/step - loss: 0.0130 - accuracy: 0.9962 - val_loss: 1.3494 - val_accuracy: 0.8664\n",
      "Epoch 20/20\n",
      "625/625 [==============================] - 17s 27ms/step - loss: 0.0115 - accuracy: 0.9964 - val_loss: 1.3824 - val_accuracy: 0.8658\n"
     ]
    }
   ],
   "source": [
    "# codes from Jérémie's ARTIFICIAL INTELLIGENCE (2023-24), Goldsmiths\n",
    "# codes from Ch.11, DLWP\n",
    "\n",
    "callbacks = [\n",
    "    tf.keras.callbacks.ModelCheckpoint(\n",
    "        str(base_dir / \"full_transformer_encoder.h5\"),\n",
    "        save_best_only=True\n",
    "    )\n",
    "]\n",
    "\n",
    "history = model.fit(\n",
    "    int_train_ds,\n",
    "    validation_data=int_val_ds,\n",
    "    epochs=20,\n",
    "    callbacks=callbacks\n",
    ")"
   ]
  },
  {
   "cell_type": "code",
   "execution_count": null,
   "metadata": {
    "id": "JLCsaa_zbBWX"
   },
   "outputs": [],
   "source": [
    "# codes from Jérémie's ARTIFICIAL INTELLIGENCE (2023-24), Goldsmiths\n",
    "# codes from Ch.11, DLWP\n",
    "\n",
    "def plot_history(history):\n",
    "    fig, (ax1, ax2) = plt.subplots(1,2, figsize=(12,4))\n",
    "    loss = history.history[\"loss\"]\n",
    "    val_loss = history.history[\"val_loss\"]\n",
    "    acc = history.history[\"accuracy\"]\n",
    "    val_acc = history.history[\"val_accuracy\"]\n",
    "    epochs = range(1, len(loss) + 1)\n",
    "    ax1.plot(epochs, loss, label=\"Training\")\n",
    "    ax1.plot(epochs, val_loss, label=\"Validation\")\n",
    "    ax1.set_title(\"Training and validation loss\")\n",
    "    ax1.legend()\n",
    "    ax2.plot(epochs, acc, label=\"Training\")\n",
    "    ax2.plot(epochs, val_acc, label=\"Validation\")\n",
    "    ax2.set_title(\"Training and validation accuracy\")\n",
    "    ax2.legend()\n",
    "    plt.show()"
   ]
  },
  {
   "cell_type": "code",
   "execution_count": null,
   "metadata": {
    "colab": {
     "base_uri": "https://localhost:8080/",
     "height": 391
    },
    "id": "S-mtzWNsbFiC",
    "outputId": "d1398bd3-0724-489f-9f45-bbf5b9a6b9e8"
   },
   "outputs": [
    {
     "data": {
      "image/png": "[encoded data removed]",
      "text/plain": [
       "<Figure size 1200x400 with 2 Axes>"
      ]
     },
     "metadata": {},
     "output_type": "display_data"
    }
   ],
   "source": [
    "plot_history(history) #"
   ]
  },
  {
   "cell_type": "code",
   "execution_count": null,
   "metadata": {
    "colab": {
     "base_uri": "https://localhost:8080/"
    },
    "id": "rVSsTpv4ahp_",
    "outputId": "0146fffb-e86f-43dd-982e-66c76e70c264"
   },
   "outputs": [
    {
     "name": "stdout",
     "output_type": "stream",
     "text": [
      "782/782 [==============================] - 11s 14ms/step - loss: 0.2798 - accuracy: 0.8839\n",
      "Test acc: 0.884\n"
     ]
    }
   ],
   "source": [
    "# codes from Jérémie's ARTIFICIAL INTELLIGENCE (2023-24), Goldsmiths\n",
    "# codes from Ch.11, DLWP\n",
    "\n",
    "model = tf.keras.models.load_model(\n",
    "    str(base_dir / \"full_transformer_encoder.h5\"),  # 确保文件名与代码3中保存的模型匹配\n",
    "    custom_objects={\"PositionalEmbedding\": PositionalEmbedding, \"TransformerEncoder\": TransformerEncoder}  # 如果您在模型中使用了自定义层\n",
    ")\n",
    "print(f\"Test acc: {model.evaluate(int_test_ds)[1]:.3f}\")"
   ]
  },
  {
   "cell_type": "markdown",
   "metadata": {
    "id": "Xyi6HlvHgJCo"
   },
   "source": [
    "### 7-2-2.\n",
    "#### According to the Occam's razor theory, one possible way to improve the model performance is to reduce it's complication. Because the number of parameters will be affected by the embedding dimension(vocab_size*embed_dim), therefore we could decrease the number of parameter by reducing the embedding dimension.We decide to change the embed_dim to 128. However, the best accuracy in validation set is no better, only 0.8778(epoch 6), than the embed_dim=256 model, and then appeared lost of overfitting. We should intorduce early stopping method."
   ]
  },
  {
   "cell_type": "code",
   "execution_count": null,
   "metadata": {
    "colab": {
     "base_uri": "https://localhost:8080/"
    },
    "id": "NnXYcX-tf3Dt",
    "outputId": "51e5b5b1-3dab-4e11-e7b9-6fccce66df4d"
   },
   "outputs": [
    {
     "name": "stdout",
     "output_type": "stream",
     "text": [
      "Epoch 1/20\n",
      "625/625 [==============================] - 40s 59ms/step - loss: 0.5140 - accuracy: 0.7473 - val_loss: 0.3261 - val_accuracy: 0.8588\n",
      "Epoch 2/20\n",
      "625/625 [==============================] - 23s 36ms/step - loss: 0.2835 - accuracy: 0.8830 - val_loss: 0.3344 - val_accuracy: 0.8686\n",
      "Epoch 3/20\n",
      "625/625 [==============================] - 19s 30ms/step - loss: 0.2211 - accuracy: 0.9122 - val_loss: 0.2908 - val_accuracy: 0.8740\n",
      "Epoch 4/20\n",
      "625/625 [==============================] - 16s 26ms/step - loss: 0.1844 - accuracy: 0.9292 - val_loss: 0.3274 - val_accuracy: 0.8794\n",
      "Epoch 5/20\n",
      "625/625 [==============================] - 15s 23ms/step - loss: 0.1598 - accuracy: 0.9412 - val_loss: 0.3182 - val_accuracy: 0.8766\n",
      "Epoch 6/20\n",
      "625/625 [==============================] - 15s 23ms/step - loss: 0.1340 - accuracy: 0.9499 - val_loss: 0.3933 - val_accuracy: 0.8778\n",
      "Epoch 7/20\n",
      "625/625 [==============================] - 14s 22ms/step - loss: 0.1100 - accuracy: 0.9601 - val_loss: 0.4582 - val_accuracy: 0.8618\n",
      "Epoch 8/20\n",
      "625/625 [==============================] - 13s 21ms/step - loss: 0.0927 - accuracy: 0.9655 - val_loss: 0.5283 - val_accuracy: 0.8554\n",
      "Epoch 9/20\n",
      "625/625 [==============================] - 14s 22ms/step - loss: 0.0738 - accuracy: 0.9750 - val_loss: 0.4654 - val_accuracy: 0.8698\n",
      "Epoch 10/20\n",
      "625/625 [==============================] - 14s 22ms/step - loss: 0.0550 - accuracy: 0.9816 - val_loss: 0.5880 - val_accuracy: 0.8718\n",
      "Epoch 11/20\n",
      "625/625 [==============================] - 13s 21ms/step - loss: 0.0433 - accuracy: 0.9869 - val_loss: 0.5924 - val_accuracy: 0.8686\n",
      "Epoch 12/20\n",
      "625/625 [==============================] - 13s 21ms/step - loss: 0.0374 - accuracy: 0.9890 - val_loss: 0.7666 - val_accuracy: 0.8602\n",
      "Epoch 13/20\n",
      "625/625 [==============================] - 13s 21ms/step - loss: 0.0304 - accuracy: 0.9906 - val_loss: 0.5645 - val_accuracy: 0.8716\n",
      "Epoch 14/20\n",
      "625/625 [==============================] - 13s 21ms/step - loss: 0.0224 - accuracy: 0.9931 - val_loss: 0.7706 - val_accuracy: 0.8714\n",
      "Epoch 15/20\n",
      "625/625 [==============================] - 13s 20ms/step - loss: 0.0190 - accuracy: 0.9942 - val_loss: 0.9804 - val_accuracy: 0.8718\n",
      "Epoch 16/20\n",
      "625/625 [==============================] - 13s 21ms/step - loss: 0.0175 - accuracy: 0.9948 - val_loss: 1.0721 - val_accuracy: 0.8616\n",
      "Epoch 17/20\n",
      "625/625 [==============================] - 13s 20ms/step - loss: 0.0132 - accuracy: 0.9965 - val_loss: 1.1392 - val_accuracy: 0.8698\n",
      "Epoch 18/20\n",
      "625/625 [==============================] - 13s 20ms/step - loss: 0.0117 - accuracy: 0.9961 - val_loss: 1.2808 - val_accuracy: 0.8702\n",
      "Epoch 19/20\n",
      "625/625 [==============================] - 12s 20ms/step - loss: 0.0114 - accuracy: 0.9967 - val_loss: 1.1433 - val_accuracy: 0.8522\n",
      "Epoch 20/20\n",
      "625/625 [==============================] - 13s 21ms/step - loss: 0.0093 - accuracy: 0.9975 - val_loss: 0.9318 - val_accuracy: 0.8692\n"
     ]
    }
   ],
   "source": [
    "# codes from Jérémie's ARTIFICIAL INTELLIGENCE (2023-24), Goldsmiths\n",
    "# codes from Ch.11, DLWP\n",
    "\n",
    "vocab_size = 20000\n",
    "sequence_length = 600\n",
    "embed_dim = 128       # Change here, from 256 to 128\n",
    "num_heads = 2\n",
    "dense_dim = 32\n",
    "\n",
    "inputs = tf.keras.Input(shape=(None,), dtype=\"int64\")\n",
    "x = PositionalEmbedding(sequence_length, vocab_size, embed_dim)(inputs) # 1. Positional embeddings\n",
    "x = TransformerEncoder(embed_dim, dense_dim, num_heads)(x)              # 2. Transformer encoder\n",
    "x = tf.keras.layers.GlobalMaxPooling1D()(x)                             #    (reduce full sequence to a vector...)\n",
    "x = tf.keras.layers.Dropout(0.5)(x)\n",
    "outputs = tf.keras.layers.Dense(1, activation=\"sigmoid\")(x)\n",
    "model = tf.keras.Model(inputs, outputs)\n",
    "model.compile(\n",
    "    optimizer=\"rmsprop\",\n",
    "    loss=\"binary_crossentropy\",\n",
    "    metrics=[\"accuracy\"]\n",
    ")\n",
    "\n",
    "callbacks = [\n",
    "    tf.keras.callbacks.ModelCheckpoint(\n",
    "        str(base_dir / \"full_transformer_encoder.h5\"),\n",
    "        save_best_only=True\n",
    "    )\n",
    "]\n",
    "\n",
    "history = model.fit(\n",
    "    int_train_ds,\n",
    "    validation_data=int_val_ds,\n",
    "    epochs=20,\n",
    "    callbacks=callbacks\n",
    ")"
   ]
  },
  {
   "cell_type": "code",
   "execution_count": null,
   "metadata": {
    "colab": {
     "base_uri": "https://localhost:8080/"
    },
    "id": "jWhTOtDprTrH",
    "outputId": "5891ebde-3ef0-4dfe-c3b7-5bbe6e79e5c5"
   },
   "outputs": [
    {
     "name": "stdout",
     "output_type": "stream",
     "text": [
      "Best Validation Accuracy: 0.8776 at Epoch 6\n"
     ]
    }
   ],
   "source": [
    "# codes from Jérémie's ARTIFICIAL INTELLIGENCE (2023-24), Goldsmiths\n",
    "# codes from Ch.11, DLWP\n",
    "\n",
    "best_epoch = np.argmax(history.history['val_accuracy'])\n",
    "best_val_accuracy = history.history['val_accuracy'][best_epoch]\n",
    "print(f\"Best Validation Accuracy: {best_val_accuracy:.4f} at Epoch {best_epoch+1}\")"
   ]
  },
  {
   "cell_type": "code",
   "execution_count": null,
   "metadata": {
    "colab": {
     "base_uri": "https://localhost:8080/",
     "height": 391
    },
    "id": "oqidOd83hobx",
    "outputId": "70a2b9e0-9294-4642-ff41-dfe0934c138c"
   },
   "outputs": [
    {
     "data": {
      "image/png": "[encoded data removed]",
      "text/plain": [
       "<Figure size 1200x400 with 2 Axes>"
      ]
     },
     "metadata": {},
     "output_type": "display_data"
    }
   ],
   "source": [
    "# codes from Jérémie's ARTIFICIAL INTELLIGENCE (2023-24), Goldsmiths\n",
    "# codes from Ch.11, DLWP\n",
    "\n",
    "def plot_history(history):\n",
    "    fig, (ax1, ax2) = plt.subplots(1,2, figsize=(12,4))\n",
    "    loss = history.history[\"loss\"]\n",
    "    val_loss = history.history[\"val_loss\"]\n",
    "    acc = history.history[\"accuracy\"]\n",
    "    val_acc = history.history[\"val_accuracy\"]\n",
    "    epochs = range(1, len(loss) + 1)\n",
    "    ax1.plot(epochs, loss, label=\"Training\")\n",
    "    ax1.plot(epochs, val_loss, label=\"Validation\")\n",
    "    ax1.set_title(\"Training and validation loss\")\n",
    "    ax1.legend()\n",
    "    ax2.plot(epochs, acc, label=\"Training\")\n",
    "    ax2.plot(epochs, val_acc, label=\"Validation\")\n",
    "    ax2.set_title(\"Training and validation accuracy\")\n",
    "    ax2.legend()\n",
    "    plt.show()\n",
    "plot_history(history) #"
   ]
  },
  {
   "cell_type": "markdown",
   "metadata": {
    "id": "e5N-Znt5hph6"
   },
   "source": [
    "### 7-2-3. Chang embed_size from 256 to 512.\n",
    "#### However, even though higher embedding dimensions usually can provide more feature representation and capture more complex patterns(generalisation ability), but it accompaned with the risk of overfitting.\n",
    "##### To responding our feedback on our coursework 1, \"...we should activate silent mode when we using grid search...\", so we tried \"verbose=0\" and see what will happened here. It works like training in silence and we can get which is the best epoch is, but the worse thing here is we can not observe the training process if we don't have the plots, even though we can infere that overfitting stated at epoch 8. We should really use silence training when perform grid search.\n",
    "\n"
   ]
  },
  {
   "cell_type": "code",
   "execution_count": null,
   "metadata": {
    "colab": {
     "base_uri": "https://localhost:8080/"
    },
    "id": "0WkyMIjOhVxl",
    "outputId": "cf1ab673-aeef-48a1-89a7-6797d86b39b6"
   },
   "outputs": [
    {
     "name": "stderr",
     "output_type": "stream",
     "text": [
      "/usr/local/lib/python3.10/dist-packages/keras/src/engine/training.py:3103: UserWarning: You are saving your model as an HDF5 file via `model.save()`. This file format is considered legacy. We recommend using instead the native Keras format, e.g. `model.save('my_model.keras')`.\n",
      "  saving_api.save_model(\n"
     ]
    },
    {
     "name": "stdout",
     "output_type": "stream",
     "text": [
      "Best Validation Accuracy: 0.878 at Epoch 7\n"
     ]
    }
   ],
   "source": [
    "# codes from Jérémie's ARTIFICIAL INTELLIGENCE (2023-24), Goldsmiths\n",
    "# codes from Ch.11, DLWP\n",
    "\n",
    "vocab_size = 20000\n",
    "sequence_length = 600\n",
    "embed_dim = 512         # Change here\n",
    "num_heads = 2\n",
    "dense_dim = 32\n",
    "\n",
    "inputs = tf.keras.Input(shape=(None,), dtype=\"int64\")\n",
    "x = PositionalEmbedding(sequence_length, vocab_size, embed_dim)(inputs) # 1. Positional embeddings\n",
    "x = TransformerEncoder(embed_dim, dense_dim, num_heads)(x)              # 2. Transformer encoder\n",
    "x = tf.keras.layers.GlobalMaxPooling1D()(x)                             #    (reduce full sequence to a vector...)\n",
    "x = tf.keras.layers.Dropout(0.5)(x)\n",
    "outputs = tf.keras.layers.Dense(1, activation=\"sigmoid\")(x)\n",
    "model = tf.keras.Model(inputs, outputs)\n",
    "model.compile(\n",
    "    optimizer=\"rmsprop\",\n",
    "    loss=\"binary_crossentropy\",\n",
    "    metrics=[\"accuracy\"]\n",
    ")\n",
    "\n",
    "callbacks = [\n",
    "    tf.keras.callbacks.ModelCheckpoint(\n",
    "        str(base_dir / \"full_transformer_encoder.h5\"),\n",
    "        save_best_only=True\n",
    "    )\n",
    "]\n",
    "\n",
    "history = model.fit(\n",
    "    int_train_ds,\n",
    "    validation_data=int_val_ds,\n",
    "    epochs=20,\n",
    "    callbacks=callbacks,\n",
    "    verbose=0  # silence mode\n",
    ")\n",
    "\n",
    "best_epoch = np.argmax(history.history['val_accuracy'])\n",
    "best_val_accuracy = history.history['val_accuracy'][best_epoch]\n",
    "print(f\"Best Validation Accuracy: {best_val_accuracy:.4f} at Epoch {best_epoch+1}\")"
   ]
  },
  {
   "cell_type": "code",
   "execution_count": null,
   "metadata": {
    "colab": {
     "base_uri": "https://localhost:8080/",
     "height": 391
    },
    "id": "7JEM9gauhtbq",
    "outputId": "58118efc-0e5d-4878-eb6d-533012bd2692"
   },
   "outputs": [
    {
     "data": {
      "image/png": "[encoded data removed]",
      "text/plain": [
       "<Figure size 1200x400 with 2 Axes>"
      ]
     },
     "metadata": {},
     "output_type": "display_data"
    }
   ],
   "source": [
    "# codes from Jérémie's ARTIFICIAL INTELLIGENCE (2023-24), Goldsmiths\n",
    "# codes from Ch.11, DLWP\n",
    "\n",
    "def plot_history(history):\n",
    "    fig, (ax1, ax2) = plt.subplots(1,2, figsize=(12,4))\n",
    "    loss = history.history[\"loss\"]\n",
    "    val_loss = history.history[\"val_loss\"]\n",
    "    acc = history.history[\"accuracy\"]\n",
    "    val_acc = history.history[\"val_accuracy\"]\n",
    "    epochs = range(1, len(loss) + 1)\n",
    "    ax1.plot(epochs, loss, label=\"Training\")\n",
    "    ax1.plot(epochs, val_loss, label=\"Validation\")\n",
    "    ax1.set_title(\"Training and validation loss\")\n",
    "    ax1.legend()\n",
    "    ax2.plot(epochs, acc, label=\"Training\")\n",
    "    ax2.plot(epochs, val_acc, label=\"Validation\")\n",
    "    ax2.set_title(\"Training and validation accuracy\")\n",
    "    ax2.legend()\n",
    "    plt.show()\n",
    "plot_history(history) #"
   ]
  },
  {
   "cell_type": "markdown",
   "metadata": {
    "id": "8A-zaOqkohOn"
   },
   "source": [
    "### 7-2-4. Increase num_heads from 2 to 4.\n",
    "#### Since transformer is famous of its mutihead attention mechnism, perhaps we can reach a better result by increase it head from 2 to 4. Unfortunately, the validation accuracy still doesn't improve and it is sitll overfitting in almost the begining starge."
   ]
  },
  {
   "cell_type": "code",
   "execution_count": null,
   "metadata": {
    "colab": {
     "base_uri": "https://localhost:8080/"
    },
    "id": "xkQYlje0omEu",
    "outputId": "640d1473-7a12-4eeb-b728-10937d93e0d4"
   },
   "outputs": [
    {
     "name": "stdout",
     "output_type": "stream",
     "text": [
      "Model: \"model_5\"\n",
      "_________________________________________________________________\n",
      " Layer (type)                Output Shape              Param #   \n",
      "=================================================================\n",
      " input_6 (InputLayer)        [(None, None)]            0         \n",
      "                                                                 \n",
      " positional_embedding_4 (Po  (None, None, 256)         5273600   \n",
      " sitionalEmbedding)                                              \n",
      "                                                                 \n",
      " transformer_encoder_5 (Tra  (None, None, 256)         1069600   \n",
      " nsformerEncoder)                                                \n",
      "                                                                 \n",
      " global_max_pooling1d_5 (Gl  (None, 256)               0         \n",
      " obalMaxPooling1D)                                               \n",
      "                                                                 \n",
      " dropout_5 (Dropout)         (None, 256)               0         \n",
      "                                                                 \n",
      " dense_21 (Dense)            (None, 1)                 257       \n",
      "                                                                 \n",
      "=================================================================\n",
      "Total params: 6343457 (24.20 MB)\n",
      "Trainable params: 6343457 (24.20 MB)\n",
      "Non-trainable params: 0 (0.00 Byte)\n",
      "_________________________________________________________________\n"
     ]
    }
   ],
   "source": [
    "# codes from Jérémie's ARTIFICIAL INTELLIGENCE (2023-24), Goldsmiths\n",
    "# codes from Ch.11, DLWP\n",
    "\n",
    "vocab_size = 20000\n",
    "sequence_length = 600\n",
    "embed_dim = 256\n",
    "num_heads = 4         # Chang here\n",
    "dense_dim = 32\n",
    "\n",
    "inputs = tf.keras.Input(shape=(None,), dtype=\"int64\")\n",
    "x = PositionalEmbedding(sequence_length, vocab_size, embed_dim)(inputs) # 1. Positional embeddings\n",
    "x = TransformerEncoder(embed_dim, dense_dim, num_heads)(x)              # 2. Transformer encoder\n",
    "x = tf.keras.layers.GlobalMaxPooling1D()(x)                             #    (reduce full sequence to a vector...)\n",
    "x = tf.keras.layers.Dropout(0.5)(x)\n",
    "outputs = tf.keras.layers.Dense(1, activation=\"sigmoid\")(x)\n",
    "model = tf.keras.Model(inputs, outputs)\n",
    "model.compile(\n",
    "    optimizer=\"rmsprop\",\n",
    "    loss=\"binary_crossentropy\",\n",
    "    metrics=[\"accuracy\"]\n",
    ")\n",
    "model.summary()"
   ]
  },
  {
   "cell_type": "code",
   "execution_count": null,
   "metadata": {
    "colab": {
     "base_uri": "https://localhost:8080/"
    },
    "id": "0U1-WBkWo2h3",
    "outputId": "8ef9c963-b042-4297-92d6-2d2838d998e1"
   },
   "outputs": [
    {
     "name": "stdout",
     "output_type": "stream",
     "text": [
      "Epoch 1/20\n",
      "625/625 [==============================] - 47s 71ms/step - loss: 0.5415 - accuracy: 0.7398 - val_loss: 0.3183 - val_accuracy: 0.8612\n",
      "Epoch 2/20\n",
      "625/625 [==============================] - 35s 55ms/step - loss: 0.3059 - accuracy: 0.8717 - val_loss: 0.3545 - val_accuracy: 0.8610\n",
      "Epoch 3/20\n",
      "625/625 [==============================] - 30s 48ms/step - loss: 0.2396 - accuracy: 0.9038 - val_loss: 0.2953 - val_accuracy: 0.8762\n",
      "Epoch 4/20\n",
      "625/625 [==============================] - 29s 47ms/step - loss: 0.1957 - accuracy: 0.9219 - val_loss: 0.3490 - val_accuracy: 0.8646\n",
      "Epoch 5/20\n",
      "625/625 [==============================] - 28s 45ms/step - loss: 0.1651 - accuracy: 0.9374 - val_loss: 0.4942 - val_accuracy: 0.8562\n",
      "Epoch 6/20\n",
      "625/625 [==============================] - 27s 44ms/step - loss: 0.1428 - accuracy: 0.9464 - val_loss: 0.3755 - val_accuracy: 0.8776\n",
      "Epoch 7/20\n",
      "625/625 [==============================] - 27s 43ms/step - loss: 0.1221 - accuracy: 0.9541 - val_loss: 0.3676 - val_accuracy: 0.8748\n",
      "Epoch 8/20\n",
      "625/625 [==============================] - 27s 43ms/step - loss: 0.1039 - accuracy: 0.9621 - val_loss: 0.3944 - val_accuracy: 0.8764\n",
      "Epoch 9/20\n",
      "625/625 [==============================] - 27s 44ms/step - loss: 0.0882 - accuracy: 0.9674 - val_loss: 0.5150 - val_accuracy: 0.8704\n",
      "Epoch 10/20\n",
      "625/625 [==============================] - 27s 43ms/step - loss: 0.0733 - accuracy: 0.9742 - val_loss: 0.5115 - val_accuracy: 0.8514\n",
      "Epoch 11/20\n",
      "625/625 [==============================] - 27s 43ms/step - loss: 0.0561 - accuracy: 0.9809 - val_loss: 0.5671 - val_accuracy: 0.8718\n",
      "Epoch 12/20\n",
      "625/625 [==============================] - 27s 43ms/step - loss: 0.0437 - accuracy: 0.9852 - val_loss: 0.5239 - val_accuracy: 0.8712\n",
      "Epoch 13/20\n",
      "625/625 [==============================] - 27s 42ms/step - loss: 0.0333 - accuracy: 0.9880 - val_loss: 0.6794 - val_accuracy: 0.8708\n",
      "Epoch 14/20\n",
      "625/625 [==============================] - 27s 43ms/step - loss: 0.0330 - accuracy: 0.9895 - val_loss: 0.6977 - val_accuracy: 0.8744\n",
      "Epoch 15/20\n",
      "625/625 [==============================] - 27s 43ms/step - loss: 0.0224 - accuracy: 0.9927 - val_loss: 0.9599 - val_accuracy: 0.8712\n",
      "Epoch 16/20\n",
      "625/625 [==============================] - 27s 43ms/step - loss: 0.0209 - accuracy: 0.9939 - val_loss: 0.9269 - val_accuracy: 0.8606\n",
      "Epoch 17/20\n",
      "625/625 [==============================] - 27s 43ms/step - loss: 0.0205 - accuracy: 0.9933 - val_loss: 0.9494 - val_accuracy: 0.8730\n",
      "Epoch 18/20\n",
      "625/625 [==============================] - 27s 42ms/step - loss: 0.0152 - accuracy: 0.9957 - val_loss: 1.0367 - val_accuracy: 0.8694\n",
      "Epoch 19/20\n",
      "625/625 [==============================] - 27s 43ms/step - loss: 0.0146 - accuracy: 0.9952 - val_loss: 1.0646 - val_accuracy: 0.8706\n",
      "Epoch 20/20\n",
      "625/625 [==============================] - 27s 43ms/step - loss: 0.0121 - accuracy: 0.9966 - val_loss: 1.2634 - val_accuracy: 0.8656\n"
     ]
    }
   ],
   "source": [
    "# codes from Jérémie's ARTIFICIAL INTELLIGENCE (2023-24), Goldsmiths\n",
    "# codes from Ch.11, DLWP\n",
    "\n",
    "callbacks = [\n",
    "    tf.keras.callbacks.ModelCheckpoint(\n",
    "        str(base_dir / \"full_transformer_encoder.h5\"),\n",
    "        save_best_only=True\n",
    "    )\n",
    "]\n",
    "\n",
    "history = model.fit(\n",
    "    int_train_ds,\n",
    "    validation_data=int_val_ds,\n",
    "    epochs=20,\n",
    "    callbacks=callbacks\n",
    ")"
   ]
  },
  {
   "cell_type": "code",
   "execution_count": null,
   "metadata": {
    "colab": {
     "base_uri": "https://localhost:8080/"
    },
    "id": "u8jkx81YrPks",
    "outputId": "7b94ebb4-f32e-4ae9-85fc-b1a76c25ea1c"
   },
   "outputs": [
    {
     "name": "stdout",
     "output_type": "stream",
     "text": [
      "Best Validation Accuracy: 0.8776 at Epoch 6\n"
     ]
    }
   ],
   "source": [
    "# codes from Jérémie's ARTIFICIAL INTELLIGENCE (2023-24), Goldsmiths\n",
    "# codes from Ch.11, DLWP\n",
    "\n",
    "best_epoch = np.argmax(history.history['val_accuracy'])\n",
    "best_val_accuracy = history.history['val_accuracy'][best_epoch]\n",
    "print(f\"Best Validation Accuracy: {best_val_accuracy:.4f} at Epoch {best_epoch+1}\")"
   ]
  },
  {
   "cell_type": "code",
   "execution_count": null,
   "metadata": {
    "colab": {
     "base_uri": "https://localhost:8080/",
     "height": 391
    },
    "id": "BSHU6muWrHhF",
    "outputId": "987cdf62-0044-4971-c42d-3ca2b02a7cfc"
   },
   "outputs": [
    {
     "data": {
      "image/png": "[encoded data removed]",
      "text/plain": [
       "<Figure size 1200x400 with 2 Axes>"
      ]
     },
     "metadata": {},
     "output_type": "display_data"
    }
   ],
   "source": [
    "# codes from Jérémie's ARTIFICIAL INTELLIGENCE (2023-24), Goldsmiths\n",
    "# codes from Ch.11, DLWP\n",
    "\n",
    "def plot_history(history):\n",
    "    fig, (ax1, ax2) = plt.subplots(1,2, figsize=(12,4))\n",
    "    loss = history.history[\"loss\"]\n",
    "    val_loss = history.history[\"val_loss\"]\n",
    "    acc = history.history[\"accuracy\"]\n",
    "    val_acc = history.history[\"val_accuracy\"]\n",
    "    epochs = range(1, len(loss) + 1)\n",
    "    ax1.plot(epochs, loss, label=\"Training\")\n",
    "    ax1.plot(epochs, val_loss, label=\"Validation\")\n",
    "    ax1.set_title(\"Training and validation loss\")\n",
    "    ax1.legend()\n",
    "    ax2.plot(epochs, acc, label=\"Training\")\n",
    "    ax2.plot(epochs, val_acc, label=\"Validation\")\n",
    "    ax2.set_title(\"Training and validation accuracy\")\n",
    "    ax2.legend()\n",
    "    plt.show()\n",
    "plot_history(history) #"
   ]
  },
  {
   "cell_type": "markdown",
   "metadata": {
    "id": "59FTF-9W5faJ"
   },
   "source": [
    "### 7-2-5. Increase num_heads from 4 to 8.\n",
    "#### Perhaps we need more attention? Let's increase number of head from 4 to 8. We also increase dense_dim to 1024 to increase parameters. Sadly, the validation accuracy remains almost same, 0.876. We also introduce early stopping in this model."
   ]
  },
  {
   "cell_type": "code",
   "execution_count": null,
   "metadata": {
    "colab": {
     "base_uri": "https://localhost:8080/"
    },
    "id": "dAinTy4ZuXCC",
    "outputId": "449b991c-debf-473f-c572-e67bbdc186d3"
   },
   "outputs": [
    {
     "name": "stdout",
     "output_type": "stream",
     "text": [
      "Model: \"model_6\"\n",
      "_________________________________________________________________\n",
      " Layer (type)                Output Shape              Param #   \n",
      "=================================================================\n",
      " input_7 (InputLayer)        [(None, None)]            0         \n",
      "                                                                 \n",
      " positional_embedding_5 (Po  (None, None, 512)         10547200  \n",
      " sitionalEmbedding)                                              \n",
      "                                                                 \n",
      " transformer_encoder_6 (Tra  (None, None, 512)         5253120   \n",
      " nsformerEncoder)                                                \n",
      "                                                                 \n",
      " global_max_pooling1d_6 (Gl  (None, 512)               0         \n",
      " obalMaxPooling1D)                                               \n",
      "                                                                 \n",
      " dropout_6 (Dropout)         (None, 512)               0         \n",
      "                                                                 \n",
      " dense_24 (Dense)            (None, 1)                 513       \n",
      "                                                                 \n",
      "=================================================================\n",
      "Total params: 15800833 (60.28 MB)\n",
      "Trainable params: 15800833 (60.28 MB)\n",
      "Non-trainable params: 0 (0.00 Byte)\n",
      "_________________________________________________________________\n"
     ]
    }
   ],
   "source": [
    "# codes from Jérémie's ARTIFICIAL INTELLIGENCE (2023-24), Goldsmiths\n",
    "# codes from Ch.11, DLWP\n",
    "\n",
    "vocab_size = 20000\n",
    "sequence_length = 600\n",
    "embed_dim = 512\n",
    "num_heads = 8\n",
    "dense_dim = 1024\n",
    "\n",
    "inputs = tf.keras.Input(shape=(None,), dtype=\"int64\")\n",
    "x = PositionalEmbedding(sequence_length, vocab_size, embed_dim)(inputs) # 1. Positional embeddings\n",
    "x = TransformerEncoder(embed_dim, dense_dim, num_heads)(x)              # 2. Transformer encoder\n",
    "x = tf.keras.layers.GlobalMaxPooling1D()(x)                             #    (reduce full sequence to a vector...)\n",
    "x = tf.keras.layers.Dropout(0.5)(x)\n",
    "outputs = tf.keras.layers.Dense(1, activation=\"sigmoid\")(x)\n",
    "model = tf.keras.Model(inputs, outputs)\n",
    "model.compile(\n",
    "    optimizer=\"rmsprop\",\n",
    "    loss=\"binary_crossentropy\",\n",
    "    metrics=[\"accuracy\"]\n",
    ")\n",
    "model.summary()"
   ]
  },
  {
   "cell_type": "code",
   "execution_count": null,
   "metadata": {
    "colab": {
     "base_uri": "https://localhost:8080/"
    },
    "id": "ueo2Al8gwi6X",
    "outputId": "100f6857-6ea5-4011-e902-a892ca97892a"
   },
   "outputs": [
    {
     "name": "stdout",
     "output_type": "stream",
     "text": [
      "Epoch 1/20\n",
      "625/625 [==============================] - 69s 107ms/step - loss: 0.6097 - accuracy: 0.7108 - val_loss: 0.4398 - val_accuracy: 0.7880\n",
      "Epoch 2/20\n",
      "625/625 [==============================] - 63s 101ms/step - loss: 0.3981 - accuracy: 0.8209 - val_loss: 0.3431 - val_accuracy: 0.8520\n",
      "Epoch 3/20\n",
      "625/625 [==============================] - 62s 99ms/step - loss: 0.3133 - accuracy: 0.8673 - val_loss: 0.3109 - val_accuracy: 0.8652\n",
      "Epoch 4/20\n",
      "625/625 [==============================] - 61s 98ms/step - loss: 0.2476 - accuracy: 0.9018 - val_loss: 0.3527 - val_accuracy: 0.8546\n",
      "Epoch 5/20\n",
      "625/625 [==============================] - 61s 98ms/step - loss: 0.1971 - accuracy: 0.9244 - val_loss: 0.3220 - val_accuracy: 0.8746\n",
      "Epoch 6/20\n",
      "625/625 [==============================] - 61s 97ms/step - loss: 0.1537 - accuracy: 0.9444 - val_loss: 0.3304 - val_accuracy: 0.8768\n"
     ]
    }
   ],
   "source": [
    "# codes from ChatGPT 4, 23/12~31/12, 2023\n",
    "\n",
    "# Define Early Stopping\n",
    "early_stopping_callback = tf.keras.callbacks.EarlyStopping(\n",
    "    monitor='val_loss',        # monitor validation loss\n",
    "    patience=3,                # stop if no improvement after 3 epochs\n",
    "    restore_best_weights=True  # restore to the best weights\n",
    ")\n",
    "\n",
    "callbacks = [\n",
    "    tf.keras.callbacks.ModelCheckpoint(\n",
    "        str(base_dir / \"full_transformer_encoder.h5\"),\n",
    "        save_best_only=True\n",
    "    ),\n",
    "    early_stopping_callback  # Early Stopping\n",
    "]\n",
    "\n",
    "history = model.fit(\n",
    "    int_train_ds,\n",
    "    validation_data=int_val_ds,\n",
    "    epochs=20,\n",
    "    callbacks=callbacks\n",
    ")"
   ]
  },
  {
   "cell_type": "code",
   "execution_count": null,
   "metadata": {
    "colab": {
     "base_uri": "https://localhost:8080/"
    },
    "id": "9H2fWXzCzPrC",
    "outputId": "7a7ff50e-788b-47dc-e3dc-eb0214276e52"
   },
   "outputs": [
    {
     "name": "stdout",
     "output_type": "stream",
     "text": [
      "Best Validation Accuracy: 0.8768 at Epoch 6\n"
     ]
    }
   ],
   "source": [
    "# codes from ChatGPT 4, 23/12~31/12, 2023\n",
    "\n",
    "best_epoch = np.argmax(history.history['val_accuracy'])\n",
    "best_val_accuracy = history.history['val_accuracy'][best_epoch]\n",
    "print(f\"Best Validation Accuracy: {best_val_accuracy:.4f} at Epoch {best_epoch+1}\")"
   ]
  },
  {
   "cell_type": "markdown",
   "metadata": {
    "id": "nE8pWPe_5ka6"
   },
   "source": [
    "#### We don't change activation from Sigmoid to Relu/Tanh is because for claasification task, the expected output [1, 0] from sigmoid is the reasonable choice.\n"
   ]
  },
  {
   "cell_type": "markdown",
   "metadata": {
    "id": "6WU2JIdSAKl-"
   },
   "source": [
    "### 7-2-6. Change optimiser from RMSProp to Adam\n",
    "#### ADAM combines the features of gradient descent momentum and RMSprop and it computes both a first-moment estimate of the gradient (i.e., the mean, similar to momentum) and a second-order moment estimate (i.e., the uncentered variance). Therefore, it takes into account not only the mean of the square of past gradients (like RMSprop), but also the mean of past gradients (i.e. momentum) to to update weights. Theoritically, the performance could be better than RMSprop to the same model. However, we can find the validation accuracy doesn't get better. Maybe we should consider adjust the hyper parameter that is Learning rate, β1 (decay rate of first-order moment estimate), β2 (decay rate of second-order moment estimate) of ADAM?"
   ]
  },
  {
   "cell_type": "code",
   "execution_count": null,
   "metadata": {
    "colab": {
     "base_uri": "https://localhost:8080/"
    },
    "id": "k6pEmcLAAKP1",
    "outputId": "3d98886f-0a8c-4130-dd57-4b842e55580f"
   },
   "outputs": [
    {
     "name": "stdout",
     "output_type": "stream",
     "text": [
      "Model: \"model_8\"\n",
      "_________________________________________________________________\n",
      " Layer (type)                Output Shape              Param #   \n",
      "=================================================================\n",
      " input_9 (InputLayer)        [(None, None)]            0         \n",
      "                                                                 \n",
      " positional_embedding_7 (Po  (None, None, 512)         10547200  \n",
      " sitionalEmbedding)                                              \n",
      "                                                                 \n",
      " transformer_encoder_8 (Tra  (None, None, 512)         9453568   \n",
      " nsformerEncoder)                                                \n",
      "                                                                 \n",
      " global_max_pooling1d_8 (Gl  (None, 512)               0         \n",
      " obalMaxPooling1D)                                               \n",
      "                                                                 \n",
      " dropout_8 (Dropout)         (None, 512)               0         \n",
      "                                                                 \n",
      " dense_30 (Dense)            (None, 1)                 513       \n",
      "                                                                 \n",
      "=================================================================\n",
      "Total params: 20001281 (76.30 MB)\n",
      "Trainable params: 20001281 (76.30 MB)\n",
      "Non-trainable params: 0 (0.00 Byte)\n",
      "_________________________________________________________________\n"
     ]
    }
   ],
   "source": [
    "# codes from Jérémie's ARTIFICIAL INTELLIGENCE (2023-24), Goldsmiths\n",
    "# codes from Ch.11, DLWP\n",
    "\n",
    "vocab_size = 20000\n",
    "sequence_length = 600\n",
    "embed_dim = 512\n",
    "num_heads = 8\n",
    "dense_dim = 1024\n",
    "\n",
    "inputs = tf.keras.Input(shape=(None,), dtype=\"int64\")\n",
    "x = PositionalEmbedding(sequence_length, vocab_size, embed_dim)(inputs) # 1. Positional embeddings\n",
    "x = TransformerEncoder(embed_dim, dense_dim, num_heads)(x)              # 2. Transformer encoder\n",
    "x = tf.keras.layers.GlobalMaxPooling1D()(x)                             #    (reduce full sequence to a vector...)\n",
    "x = tf.keras.layers.Dropout(0.5)(x)\n",
    "outputs = tf.keras.layers.Dense(1, activation=\"sigmoid\")(x)\n",
    "model = tf.keras.Model(inputs, outputs)\n",
    "model.compile(\n",
    "    optimizer=\"adam\",             # change from RMSprop to ADAM\n",
    "    loss=\"binary_crossentropy\",\n",
    "    metrics=[\"accuracy\"]\n",
    ")\n",
    "model.summary()"
   ]
  },
  {
   "cell_type": "code",
   "execution_count": null,
   "metadata": {
    "colab": {
     "base_uri": "https://localhost:8080/"
    },
    "id": "ESOF036jAcSK",
    "outputId": "eb6ca0e7-f6dd-434b-b03a-e21a5a4316ae"
   },
   "outputs": [
    {
     "name": "stdout",
     "output_type": "stream",
     "text": [
      "Epoch 1/20\n",
      "625/625 [==============================] - 112s 174ms/step - loss: 0.4826 - accuracy: 0.7743 - val_loss: 0.3203 - val_accuracy: 0.8710\n",
      "Epoch 2/20\n",
      "625/625 [==============================] - 107s 171ms/step - loss: 0.1912 - accuracy: 0.9265 - val_loss: 0.3860 - val_accuracy: 0.8740\n",
      "Epoch 3/20\n",
      "625/625 [==============================] - 107s 171ms/step - loss: 0.1127 - accuracy: 0.9596 - val_loss: 0.4206 - val_accuracy: 0.8764\n",
      "Epoch 4/20\n",
      "625/625 [==============================] - 107s 171ms/step - loss: 0.0910 - accuracy: 0.9679 - val_loss: 0.4442 - val_accuracy: 0.8698\n"
     ]
    }
   ],
   "source": [
    "# codes from ChatGPT 4, 23/12~31/12, 2023\n",
    "\n",
    "# Define Early Stopping\n",
    "early_stopping_callback = tf.keras.callbacks.EarlyStopping(\n",
    "    monitor='val_loss',        # monitor validation loss\n",
    "    patience=3,                # stop if no improvement after 3 epochs\n",
    "    restore_best_weights=True  # restore to the best weights\n",
    ")\n",
    "\n",
    "callbacks = [\n",
    "    tf.keras.callbacks.ModelCheckpoint(\n",
    "        str(base_dir / \"full_transformer_encoder.h5\"),\n",
    "        save_best_only=True\n",
    "    ),\n",
    "    early_stopping_callback  # Early Stopping\n",
    "]\n",
    "\n",
    "history = model.fit(\n",
    "    int_train_ds,\n",
    "    validation_data=int_val_ds,\n",
    "    epochs=20,\n",
    "    callbacks=callbacks\n",
    ")"
   ]
  },
  {
   "cell_type": "markdown",
   "metadata": {
    "id": "CZbwWigrMctr"
   },
   "source": [
    "### 7-2-7. The validation accuracy doesn't improve, so we decide to modify and encapsulate the Transformer model so that it is easier to change its architecture."
   ]
  },
  {
   "cell_type": "code",
   "execution_count": null,
   "metadata": {
    "id": "GaS3bsLKMzsH"
   },
   "outputs": [],
   "source": [
    "# codes from ChatGPT 4, 23/12~31/12, 2023\n",
    "\n",
    "# Define Transformer model\n",
    "def build_transformer_model(vocab_size, sequence_length, embed_dim, num_heads, dense_dim, num_layers, batch_size):\n",
    "    # input layer\n",
    "    inputs = tf.keras.Input(shape=(sequence_length,), dtype=\"int64\", batch_size=batch_size)  # Ensure the input shape contains the sequence length\n",
    "\n",
    "    # embedding layer（could be replace as other embedding layer，such as GloVe）\n",
    "    x = tf.keras.layers.Embedding(vocab_size, embed_dim)(inputs)\n",
    "\n",
    "    # Transformer encoder layer\n",
    "    for _ in range(num_layers):\n",
    "        x = TransformerEncoder(embed_dim, dense_dim, num_heads)(x)\n",
    "\n",
    "    # Global pooling and output layer\n",
    "    x = tf.keras.layers.GlobalMaxPooling1D()(x)\n",
    "    x = tf.keras.layers.Dropout(0.5)(x)\n",
    "    outputs = tf.keras.layers.Dense(1, activation=\"sigmoid\")(x)\n",
    "\n",
    "    # build model\n",
    "    model = tf.keras.Model(inputs, outputs)\n",
    "    return model"
   ]
  },
  {
   "cell_type": "markdown",
   "metadata": {
    "id": "nAHdyQwnULfF"
   },
   "source": [
    "### 7-2-8. Change batch size from 32 to 64. new_dense_dim = 512.\n",
    "#### But neither do validation accuracy and overfitting has been improved."
   ]
  },
  {
   "cell_type": "code",
   "execution_count": null,
   "metadata": {
    "colab": {
     "base_uri": "https://localhost:8080/"
    },
    "id": "D9Rc0KT1Sg4K",
    "outputId": "2a588832-303b-4e2d-84c7-39559620af4d"
   },
   "outputs": [
    {
     "name": "stdout",
     "output_type": "stream",
     "text": [
      "Model: \"model_1\"\n",
      "_________________________________________________________________\n",
      " Layer (type)                Output Shape              Param #   \n",
      "=================================================================\n",
      " input_2 (InputLayer)        [(64, 600)]               0         \n",
      "                                                                 \n",
      " embedding_1 (Embedding)     (64, 600, 256)            5120000   \n",
      "                                                                 \n",
      " transformer_encoder_2 (Tra  (64, 600, 256)            1315840   \n",
      " nsformerEncoder)                                                \n",
      "                                                                 \n",
      " transformer_encoder_3 (Tra  (64, 600, 256)            1315840   \n",
      " nsformerEncoder)                                                \n",
      "                                                                 \n",
      " global_max_pooling1d_1 (Gl  (64, 256)                 0         \n",
      " obalMaxPooling1D)                                               \n",
      "                                                                 \n",
      " dropout_1 (Dropout)         (64, 256)                 0         \n",
      "                                                                 \n",
      " dense_9 (Dense)             (64, 1)                   257       \n",
      "                                                                 \n",
      "=================================================================\n",
      "Total params: 7751937 (29.57 MB)\n",
      "Trainable params: 7751937 (29.57 MB)\n",
      "Non-trainable params: 0 (0.00 Byte)\n",
      "_________________________________________________________________\n"
     ]
    }
   ],
   "source": [
    "# codes from ChatGPT 4, 23/12~31/12, 2023\n",
    "\n",
    "# new parameters\n",
    "new_batch_size = 64\n",
    "new_vocab_size = 20000\n",
    "new_sequence_length = 600\n",
    "new_embed_dim = 256\n",
    "new_num_heads = 4\n",
    "new_dense_dim = 512\n",
    "new_num_layers = 2\n",
    "\n",
    "#compile model with neew params\n",
    "new_model = build_transformer_model(new_vocab_size, new_sequence_length, new_embed_dim, new_num_heads, new_dense_dim, new_num_layers, new_batch_size)\n",
    "new_model.compile(optimizer=\"adam\", loss=\"binary_crossentropy\", metrics=[\"accuracy\"])\n",
    "\n",
    "# print model summary\n",
    "new_model.summary()"
   ]
  },
  {
   "cell_type": "code",
   "execution_count": null,
   "metadata": {
    "colab": {
     "base_uri": "https://localhost:8080/"
    },
    "id": "T_f-6AQhibY-",
    "outputId": "f9d58fcd-467c-4a36-b0e4-94c27ecb97cf"
   },
   "outputs": [
    {
     "name": "stdout",
     "output_type": "stream",
     "text": [
      "Epoch 1/20\n",
      "625/625 [==============================] - ETA: 0s - loss: 0.5885 - accuracy: 0.6823"
     ]
    },
    {
     "name": "stderr",
     "output_type": "stream",
     "text": [
      "/usr/local/lib/python3.10/dist-packages/keras/src/engine/training.py:3103: UserWarning: You are saving your model as an HDF5 file via `model.save()`. This file format is considered legacy. We recommend using instead the native Keras format, e.g. `model.save('my_model.keras')`.\n",
      "  saving_api.save_model(\n"
     ]
    },
    {
     "name": "stdout",
     "output_type": "stream",
     "text": [
      "625/625 [==============================] - 77s 114ms/step - loss: 0.5885 - accuracy: 0.6823 - val_loss: 0.3886 - val_accuracy: 0.8326\n",
      "Epoch 2/20\n",
      "625/625 [==============================] - 61s 97ms/step - loss: 0.4006 - accuracy: 0.8189 - val_loss: 0.3670 - val_accuracy: 0.8368\n",
      "Epoch 3/20\n",
      "625/625 [==============================] - 57s 90ms/step - loss: 0.3233 - accuracy: 0.8637 - val_loss: 0.3515 - val_accuracy: 0.8474\n",
      "Epoch 4/20\n",
      "625/625 [==============================] - 53s 85ms/step - loss: 0.2300 - accuracy: 0.9091 - val_loss: 0.3909 - val_accuracy: 0.8624\n",
      "Epoch 5/20\n",
      "625/625 [==============================] - 52s 84ms/step - loss: 0.2704 - accuracy: 0.8943 - val_loss: 0.5551 - val_accuracy: 0.7372\n",
      "Epoch 6/20\n",
      "625/625 [==============================] - 52s 83ms/step - loss: 0.3746 - accuracy: 0.8459 - val_loss: 0.5290 - val_accuracy: 0.7380\n"
     ]
    }
   ],
   "source": [
    "# codes from ChatGPT 4, 23/12~31/12, 2023\n",
    "\n",
    "# Early Stopping to recall to train new model\n",
    "new_early_stopping_callback = tf.keras.callbacks.EarlyStopping(\n",
    "    monitor='val_loss',\n",
    "    patience=3,\n",
    "    restore_best_weights=True\n",
    ")\n",
    "\n",
    "new_callbacks = [\n",
    "    tf.keras.callbacks.ModelCheckpoint(\"new_full_transformer_encoder.h5\", save_best_only=True),\n",
    "    new_early_stopping_callback\n",
    "]\n",
    "\n",
    "# trainin new model\n",
    "new_history = new_model.fit(int_train_ds, validation_data=int_val_ds, epochs=20, callbacks=new_callbacks)"
   ]
  },
  {
   "cell_type": "markdown",
   "metadata": {
    "id": "X5oJq3ZL7Mx3"
   },
   "source": [
    "### 7-2-9. Change batch size from 32 to 64. new_dense_dim = 256.\n",
    "#### Both validation accuracy and overfitting has no improvement."
   ]
  },
  {
   "cell_type": "code",
   "execution_count": null,
   "metadata": {
    "colab": {
     "base_uri": "https://localhost:8080/"
    },
    "id": "Wg55nYaD7OZp",
    "outputId": "cb652b0f-f16f-4700-e7c4-cd8f50577623"
   },
   "outputs": [
    {
     "name": "stdout",
     "output_type": "stream",
     "text": [
      "Model: \"model_2\"\n",
      "_________________________________________________________________\n",
      " Layer (type)                Output Shape              Param #   \n",
      "=================================================================\n",
      " input_3 (InputLayer)        [(64, 600)]               0         \n",
      "                                                                 \n",
      " embedding_2 (Embedding)     (64, 600, 256)            5120000   \n",
      "                                                                 \n",
      " transformer_encoder_4 (Tra  (64, 600, 256)            1069600   \n",
      " nsformerEncoder)                                                \n",
      "                                                                 \n",
      " transformer_encoder_5 (Tra  (64, 600, 256)            1069600   \n",
      " nsformerEncoder)                                                \n",
      "                                                                 \n",
      " global_max_pooling1d_2 (Gl  (64, 256)                 0         \n",
      " obalMaxPooling1D)                                               \n",
      "                                                                 \n",
      " dropout_2 (Dropout)         (64, 256)                 0         \n",
      "                                                                 \n",
      " dense_14 (Dense)            (64, 1)                   257       \n",
      "                                                                 \n",
      "=================================================================\n",
      "Total params: 7259457 (27.69 MB)\n",
      "Trainable params: 7259457 (27.69 MB)\n",
      "Non-trainable params: 0 (0.00 Byte)\n",
      "_________________________________________________________________\n"
     ]
    }
   ],
   "source": [
    "# codes from ChatGPT 4, 23/12~31/12, 2023\n",
    "\n",
    "# new parameters\n",
    "new_batch_size = 64\n",
    "new_vocab_size = 20000\n",
    "new_sequence_length = 600\n",
    "new_embed_dim = 256\n",
    "new_num_heads = 4\n",
    "new_dense_dim = 32\n",
    "new_num_layers = 2\n",
    "\n",
    "#compile model with neew params\n",
    "new_model = build_transformer_model(new_vocab_size, new_sequence_length, new_embed_dim, new_num_heads, new_dense_dim, new_num_layers, new_batch_size)\n",
    "new_model.compile(optimizer=\"adam\", loss=\"binary_crossentropy\", metrics=[\"accuracy\"])\n",
    "\n",
    "# print model summary\n",
    "new_model.summary()"
   ]
  },
  {
   "cell_type": "code",
   "execution_count": null,
   "metadata": {
    "colab": {
     "base_uri": "https://localhost:8080/"
    },
    "id": "Gh0do1t07bkn",
    "outputId": "f3fbb098-634a-4d95-f3f6-7ef851dfa22b"
   },
   "outputs": [
    {
     "name": "stdout",
     "output_type": "stream",
     "text": [
      "Epoch 1/20\n",
      "625/625 [==============================] - 76s 114ms/step - loss: 0.5498 - accuracy: 0.7159 - val_loss: 0.3699 - val_accuracy: 0.8328\n",
      "Epoch 2/20\n",
      "625/625 [==============================] - 58s 93ms/step - loss: 0.3707 - accuracy: 0.8386 - val_loss: 0.3567 - val_accuracy: 0.8408\n",
      "Epoch 3/20\n",
      "625/625 [==============================] - 52s 84ms/step - loss: 0.2581 - accuracy: 0.8950 - val_loss: 0.4732 - val_accuracy: 0.8086\n",
      "Epoch 4/20\n",
      "625/625 [==============================] - 51s 82ms/step - loss: 0.2474 - accuracy: 0.9017 - val_loss: 0.3545 - val_accuracy: 0.8676\n",
      "Epoch 5/20\n",
      "625/625 [==============================] - 50s 80ms/step - loss: 0.1615 - accuracy: 0.9418 - val_loss: 0.3377 - val_accuracy: 0.8758\n",
      "Epoch 6/20\n",
      "625/625 [==============================] - 48s 77ms/step - loss: 0.1143 - accuracy: 0.9594 - val_loss: 0.4413 - val_accuracy: 0.8520\n",
      "Epoch 7/20\n",
      "625/625 [==============================] - 49s 78ms/step - loss: 0.1236 - accuracy: 0.9571 - val_loss: 0.4643 - val_accuracy: 0.8334\n",
      "Epoch 8/20\n",
      "625/625 [==============================] - 48s 76ms/step - loss: 0.2862 - accuracy: 0.8858 - val_loss: 0.4520 - val_accuracy: 0.8168\n"
     ]
    }
   ],
   "source": [
    "# codes from ChatGPT 4, 23/12~31/12, 2023\n",
    "\n",
    "# Early Stopping\n",
    "new_early_stopping_callback = tf.keras.callbacks.EarlyStopping(\n",
    "    monitor='val_loss',\n",
    "    patience=3,\n",
    "    restore_best_weights=True\n",
    ")\n",
    "\n",
    "new_callbacks = [\n",
    "    tf.keras.callbacks.ModelCheckpoint(\"new_full_transformer_encoder.h5\", save_best_only=True),\n",
    "    new_early_stopping_callback\n",
    "]\n",
    "\n",
    "# train new model\n",
    "new_history = new_model.fit(int_train_ds, validation_data=int_val_ds, epochs=20, callbacks=new_callbacks)"
   ]
  },
  {
   "cell_type": "markdown",
   "metadata": {
    "id": "qh90qQMZA6ws"
   },
   "source": [
    "### 7-2-10. New model 3. Change new_num_heads = 4.\n",
    "#### The validation accuracy 0.8820 is better than previous two models, but overfitting happened early."
   ]
  },
  {
   "cell_type": "code",
   "execution_count": null,
   "metadata": {
    "colab": {
     "base_uri": "https://localhost:8080/"
    },
    "id": "ieacjfaPA8vi",
    "outputId": "3561429f-c14a-4a58-ca86-bc3f12f67fd6"
   },
   "outputs": [
    {
     "name": "stdout",
     "output_type": "stream",
     "text": [
      "Model: \"model_3\"\n",
      "_________________________________________________________________\n",
      " Layer (type)                Output Shape              Param #   \n",
      "=================================================================\n",
      " input_4 (InputLayer)        [(32, 600)]               0         \n",
      "                                                                 \n",
      " embedding_3 (Embedding)     (32, 600, 256)            5120000   \n",
      "                                                                 \n",
      " transformer_encoder_6 (Tra  (32, 600, 256)            1069600   \n",
      " nsformerEncoder)                                                \n",
      "                                                                 \n",
      " transformer_encoder_7 (Tra  (32, 600, 256)            1069600   \n",
      " nsformerEncoder)                                                \n",
      "                                                                 \n",
      " global_max_pooling1d_3 (Gl  (32, 256)                 0         \n",
      " obalMaxPooling1D)                                               \n",
      "                                                                 \n",
      " dropout_3 (Dropout)         (32, 256)                 0         \n",
      "                                                                 \n",
      " dense_19 (Dense)            (32, 1)                   257       \n",
      "                                                                 \n",
      "=================================================================\n",
      "Total params: 7259457 (27.69 MB)\n",
      "Trainable params: 7259457 (27.69 MB)\n",
      "Non-trainable params: 0 (0.00 Byte)\n",
      "_________________________________________________________________\n"
     ]
    }
   ],
   "source": [
    "# codes from ChatGPT 4, 23/12~31/12, 2023\n",
    "\n",
    "# new parameters\n",
    "new_batch_size = 32\n",
    "new_vocab_size = 20000\n",
    "new_sequence_length = 600\n",
    "new_embed_dim = 256\n",
    "new_num_heads = 4\n",
    "new_dense_dim = 32\n",
    "new_num_layers = 2\n",
    "\n",
    "#compile model with neew params\n",
    "new_model = build_transformer_model(new_vocab_size, new_sequence_length, new_embed_dim, new_num_heads, new_dense_dim, new_num_layers, new_batch_size)\n",
    "new_model.compile(optimizer=\"adam\", loss=\"binary_crossentropy\", metrics=[\"accuracy\"])\n",
    "\n",
    "# print model summary\n",
    "new_model.summary()"
   ]
  },
  {
   "cell_type": "code",
   "execution_count": null,
   "metadata": {
    "colab": {
     "base_uri": "https://localhost:8080/"
    },
    "id": "KyoUEwAjA_R9",
    "outputId": "4f28cd7a-2854-4bcc-a3f9-448579367c11"
   },
   "outputs": [
    {
     "name": "stdout",
     "output_type": "stream",
     "text": [
      "Epoch 1/20\n",
      "625/625 [==============================] - 77s 116ms/step - loss: 0.5736 - accuracy: 0.6972 - val_loss: 0.4369 - val_accuracy: 0.7884\n",
      "Epoch 2/20\n",
      "625/625 [==============================] - 59s 94ms/step - loss: 0.3740 - accuracy: 0.8389 - val_loss: 0.3217 - val_accuracy: 0.8658\n",
      "Epoch 3/20\n",
      "625/625 [==============================] - 52s 82ms/step - loss: 0.2497 - accuracy: 0.9018 - val_loss: 0.3262 - val_accuracy: 0.8820\n",
      "Epoch 4/20\n",
      "625/625 [==============================] - 50s 80ms/step - loss: 0.1842 - accuracy: 0.9306 - val_loss: 0.4354 - val_accuracy: 0.8470\n",
      "Epoch 5/20\n",
      "625/625 [==============================] - 50s 79ms/step - loss: 0.1863 - accuracy: 0.9316 - val_loss: 0.3890 - val_accuracy: 0.8466\n"
     ]
    }
   ],
   "source": [
    "# codes from ChatGPT 4, 23/12~31/12, 2023\n",
    "\n",
    "# Early Stopping\n",
    "new_early_stopping_callback = tf.keras.callbacks.EarlyStopping(\n",
    "    monitor='val_loss',\n",
    "    patience=3,\n",
    "    restore_best_weights=True\n",
    ")\n",
    "\n",
    "new_callbacks = [\n",
    "    tf.keras.callbacks.ModelCheckpoint(\"new_full_transformer_encoder.h5\", save_best_only=True),\n",
    "    new_early_stopping_callback\n",
    "]\n",
    "\n",
    "# train new model\n",
    "new_history = new_model.fit(int_train_ds, validation_data=int_val_ds, epochs=20, callbacks=new_callbacks)"
   ]
  },
  {
   "cell_type": "markdown",
   "metadata": {
    "id": "W_sZhKs0Ejab"
   },
   "source": [
    "### 7-2-11. New model 4. Change new_num_heads from 4 to 2.\n",
    "#### Both validation accuracy and overfitting improve less."
   ]
  },
  {
   "cell_type": "code",
   "execution_count": null,
   "metadata": {
    "colab": {
     "base_uri": "https://localhost:8080/"
    },
    "id": "JtDgdtreElKX",
    "outputId": "b6366b16-8579-4343-e06f-565a878264ce"
   },
   "outputs": [
    {
     "name": "stdout",
     "output_type": "stream",
     "text": [
      "Model: \"model_5\"\n",
      "_________________________________________________________________\n",
      " Layer (type)                Output Shape              Param #   \n",
      "=================================================================\n",
      " input_6 (InputLayer)        [(32, 600)]               0         \n",
      "                                                                 \n",
      " embedding_5 (Embedding)     (32, 600, 256)            5120000   \n",
      "                                                                 \n",
      " transformer_encoder_10 (Tr  (32, 600, 256)            543776    \n",
      " ansformerEncoder)                                               \n",
      "                                                                 \n",
      " transformer_encoder_11 (Tr  (32, 600, 256)            543776    \n",
      " ansformerEncoder)                                               \n",
      "                                                                 \n",
      " global_max_pooling1d_5 (Gl  (32, 256)                 0         \n",
      " obalMaxPooling1D)                                               \n",
      "                                                                 \n",
      " dropout_5 (Dropout)         (32, 256)                 0         \n",
      "                                                                 \n",
      " dense_29 (Dense)            (32, 1)                   257       \n",
      "                                                                 \n",
      "=================================================================\n",
      "Total params: 6207809 (23.68 MB)\n",
      "Trainable params: 6207809 (23.68 MB)\n",
      "Non-trainable params: 0 (0.00 Byte)\n",
      "_________________________________________________________________\n"
     ]
    }
   ],
   "source": [
    "# codes from ChatGPT 4, 23/12~31/12, 2023\n",
    "\n",
    "# new parameters\n",
    "new_batch_size = 32\n",
    "new_vocab_size = 20000\n",
    "new_sequence_length = 600\n",
    "new_embed_dim = 256\n",
    "new_num_heads = 2\n",
    "new_dense_dim = 32\n",
    "new_num_layers = 2\n",
    "\n",
    "#compile model with neew params\n",
    "new_model = build_transformer_model(new_vocab_size, new_sequence_length, new_embed_dim, new_num_heads, new_dense_dim, new_num_layers, new_batch_size)\n",
    "new_model.compile(optimizer=\"adam\", loss=\"binary_crossentropy\", metrics=[\"accuracy\"])\n",
    "\n",
    "# print model summary\n",
    "new_model.summary()"
   ]
  },
  {
   "cell_type": "code",
   "execution_count": null,
   "metadata": {
    "colab": {
     "base_uri": "https://localhost:8080/"
    },
    "id": "-gcnCxW_Eoi9",
    "outputId": "3fec8a82-ccbb-4ca8-c792-0e8c6173e3a9"
   },
   "outputs": [
    {
     "name": "stdout",
     "output_type": "stream",
     "text": [
      "Epoch 1/20\n",
      "625/625 [==============================] - 66s 97ms/step - loss: 0.5081 - accuracy: 0.7521 - val_loss: 0.3465 - val_accuracy: 0.8472\n",
      "Epoch 2/20\n",
      "625/625 [==============================] - 44s 71ms/step - loss: 0.3388 - accuracy: 0.8558 - val_loss: 0.3444 - val_accuracy: 0.8496\n",
      "Epoch 3/20\n",
      "625/625 [==============================] - 36s 58ms/step - loss: 0.2495 - accuracy: 0.8979 - val_loss: 0.3054 - val_accuracy: 0.8708\n",
      "Epoch 4/20\n",
      "625/625 [==============================] - 33s 52ms/step - loss: 0.1944 - accuracy: 0.9244 - val_loss: 0.3571 - val_accuracy: 0.8598\n",
      "Epoch 5/20\n",
      "625/625 [==============================] - 32s 51ms/step - loss: 0.2555 - accuracy: 0.8986 - val_loss: 0.3553 - val_accuracy: 0.8724\n",
      "Epoch 6/20\n",
      "625/625 [==============================] - 31s 49ms/step - loss: 0.1559 - accuracy: 0.9427 - val_loss: 0.4013 - val_accuracy: 0.8660\n"
     ]
    }
   ],
   "source": [
    "# codes from ChatGPT 4, 23/12~31/12, 2023\n",
    "\n",
    "# Early Stopping\n",
    "new_early_stopping_callback = tf.keras.callbacks.EarlyStopping(\n",
    "    monitor='val_loss',\n",
    "    patience=3,\n",
    "    restore_best_weights=True\n",
    ")\n",
    "\n",
    "new_callbacks = [\n",
    "    tf.keras.callbacks.ModelCheckpoint(\"new_full_transformer_encoder.h5\", save_best_only=True),\n",
    "    new_early_stopping_callback\n",
    "]\n",
    "\n",
    "# train new model\n",
    "new_history = new_model.fit(int_train_ds, validation_data=int_val_ds, epochs=20, callbacks=new_callbacks)"
   ]
  },
  {
   "cell_type": "markdown",
   "metadata": {
    "id": "sfUEd_cgFq20"
   },
   "source": [
    "### 7-2-12. New model 5. Change new_num_heads from 4, and compile the model with a custom optimizer (custom learning rate=0.0005)\n",
    "#### Both validation accuracy and overfitting improve less."
   ]
  },
  {
   "cell_type": "code",
   "execution_count": null,
   "metadata": {
    "colab": {
     "base_uri": "https://localhost:8080/"
    },
    "id": "Yo13NatSHHJg",
    "outputId": "5be99cfb-f325-4263-aef0-f22284b5a502"
   },
   "outputs": [
    {
     "name": "stdout",
     "output_type": "stream",
     "text": [
      "Model: \"model_8\"\n",
      "_________________________________________________________________\n",
      " Layer (type)                Output Shape              Param #   \n",
      "=================================================================\n",
      " input_9 (InputLayer)        [(32, 600)]               0         \n",
      "                                                                 \n",
      " embedding_8 (Embedding)     (32, 600, 256)            5120000   \n",
      "                                                                 \n",
      " transformer_encoder_17 (Tr  (32, 600, 256)            1069600   \n",
      " ansformerEncoder)                                               \n",
      "                                                                 \n",
      " transformer_encoder_18 (Tr  (32, 600, 256)            1069600   \n",
      " ansformerEncoder)                                               \n",
      "                                                                 \n",
      " global_max_pooling1d_8 (Gl  (32, 256)                 0         \n",
      " obalMaxPooling1D)                                               \n",
      "                                                                 \n",
      " dropout_8 (Dropout)         (32, 256)                 0         \n",
      "                                                                 \n",
      " dense_46 (Dense)            (32, 1)                   257       \n",
      "                                                                 \n",
      "=================================================================\n",
      "Total params: 7259457 (27.69 MB)\n",
      "Trainable params: 7259457 (27.69 MB)\n",
      "Non-trainable params: 0 (0.00 Byte)\n",
      "_________________________________________________________________\n"
     ]
    }
   ],
   "source": [
    "# codes from ChatGPT 4, 23/12~31/12, 2023\n",
    "\n",
    "# new parameters\n",
    "new_batch_size = 32\n",
    "new_vocab_size = 20000\n",
    "new_sequence_length = 600\n",
    "new_embed_dim = 256\n",
    "new_num_heads = 4\n",
    "new_dense_dim = 32\n",
    "new_num_layers = 2\n",
    "\n",
    "# define custom learning rate\n",
    "learning_rate = 0.0005\n",
    "# Create an Adam optimizer instance with a custom learning rate\n",
    "optimizer = tf.keras.optimizers.Adam(learning_rate=learning_rate)\n",
    "\n",
    "# Build a model with new parameters\n",
    "new_model = build_transformer_model(new_vocab_size, new_sequence_length, new_embed_dim, new_num_heads, new_dense_dim, new_num_layers, new_batch_size)\n",
    "\n",
    "# Compile the model with a custom optimizer\n",
    "new_model.compile(optimizer=optimizer, loss=\"binary_crossentropy\", metrics=[\"accuracy\"])\n",
    "\n",
    "# model summary\n",
    "new_model.summary()"
   ]
  },
  {
   "cell_type": "code",
   "execution_count": null,
   "metadata": {
    "colab": {
     "base_uri": "https://localhost:8080/"
    },
    "id": "lqHVjwY3HJdG",
    "outputId": "f4c03fa8-a132-4e56-9588-d2b76d2ca17a"
   },
   "outputs": [
    {
     "name": "stdout",
     "output_type": "stream",
     "text": [
      "Epoch 1/20\n",
      "625/625 [==============================] - 77s 115ms/step - loss: 0.5294 - accuracy: 0.7331 - val_loss: 0.3671 - val_accuracy: 0.8482\n",
      "Epoch 2/20\n",
      "625/625 [==============================] - 59s 94ms/step - loss: 0.3262 - accuracy: 0.8605 - val_loss: 0.3271 - val_accuracy: 0.8644\n",
      "Epoch 3/20\n",
      "625/625 [==============================] - 53s 84ms/step - loss: 0.2526 - accuracy: 0.8967 - val_loss: 0.3389 - val_accuracy: 0.8658\n",
      "Epoch 4/20\n",
      "625/625 [==============================] - 50s 79ms/step - loss: 0.1829 - accuracy: 0.9287 - val_loss: 0.3923 - val_accuracy: 0.8382\n",
      "Epoch 5/20\n",
      "625/625 [==============================] - 49s 78ms/step - loss: 0.1228 - accuracy: 0.9541 - val_loss: 0.3484 - val_accuracy: 0.8732\n"
     ]
    }
   ],
   "source": [
    "# codes from ChatGPT 4, 23/12~31/12, 2023\n",
    "\n",
    "# Early Stopping\n",
    "new_early_stopping_callback = tf.keras.callbacks.EarlyStopping(\n",
    "    monitor='val_loss',\n",
    "    patience=3,\n",
    "    restore_best_weights=True\n",
    ")\n",
    "\n",
    "new_callbacks = [\n",
    "    tf.keras.callbacks.ModelCheckpoint(\"new_full_transformer_encoder.h5\", save_best_only=True),\n",
    "    new_early_stopping_callback\n",
    "]\n",
    "\n",
    "# train new model\n",
    "new_history = new_model.fit(int_train_ds, validation_data=int_val_ds, epochs=20, callbacks=new_callbacks)"
   ]
  },
  {
   "cell_type": "markdown",
   "metadata": {
    "id": "oMCSlei8JTJM"
   },
   "source": [
    "### 7-2-13. New model 6. Change new_num_heads from 4, and compile the model with a custom optimizer (custom learning rate=0.0003)\n",
    "#### Both validation accuracy and overfitting improve less."
   ]
  },
  {
   "cell_type": "code",
   "execution_count": null,
   "metadata": {
    "colab": {
     "base_uri": "https://localhost:8080/"
    },
    "id": "0DmVqml6HuLY",
    "outputId": "8a86050c-dd73-4ff9-bcbd-e7418c054091"
   },
   "outputs": [
    {
     "name": "stdout",
     "output_type": "stream",
     "text": [
      "Model: \"model_9\"\n",
      "_________________________________________________________________\n",
      " Layer (type)                Output Shape              Param #   \n",
      "=================================================================\n",
      " input_10 (InputLayer)       [(32, 600)]               0         \n",
      "                                                                 \n",
      " embedding_9 (Embedding)     (32, 600, 256)            5120000   \n",
      "                                                                 \n",
      " transformer_encoder_19 (Tr  (32, 600, 256)            1069600   \n",
      " ansformerEncoder)                                               \n",
      "                                                                 \n",
      " transformer_encoder_20 (Tr  (32, 600, 256)            1069600   \n",
      " ansformerEncoder)                                               \n",
      "                                                                 \n",
      " global_max_pooling1d_9 (Gl  (32, 256)                 0         \n",
      " obalMaxPooling1D)                                               \n",
      "                                                                 \n",
      " dropout_9 (Dropout)         (32, 256)                 0         \n",
      "                                                                 \n",
      " dense_51 (Dense)            (32, 1)                   257       \n",
      "                                                                 \n",
      "=================================================================\n",
      "Total params: 7259457 (27.69 MB)\n",
      "Trainable params: 7259457 (27.69 MB)\n",
      "Non-trainable params: 0 (0.00 Byte)\n",
      "_________________________________________________________________\n"
     ]
    }
   ],
   "source": [
    "# codes from ChatGPT 4, 23/12~31/12, 2023\n",
    "\n",
    "# new parameters\n",
    "new_batch_size = 32\n",
    "new_vocab_size = 20000\n",
    "new_sequence_length = 600\n",
    "new_embed_dim = 256\n",
    "new_num_heads = 4\n",
    "new_dense_dim = 32\n",
    "new_num_layers = 2\n",
    "\n",
    "# define custom learning rate\n",
    "learning_rate = 0.0003\n",
    "# Create an Adam optimizer instance with a custom learning rate\n",
    "optimizer = tf.keras.optimizers.Adam(learning_rate=learning_rate)\n",
    "\n",
    "# Build a model with new parameters\n",
    "new_model = build_transformer_model(new_vocab_size, new_sequence_length, new_embed_dim, new_num_heads, new_dense_dim, new_num_layers, new_batch_size)\n",
    "\n",
    "# Compile the model with a custom optimizer\n",
    "new_model.compile(optimizer=optimizer, loss=\"binary_crossentropy\", metrics=[\"accuracy\"])\n",
    "\n",
    "# model summary\n",
    "new_model.summary()"
   ]
  },
  {
   "cell_type": "code",
   "execution_count": null,
   "metadata": {
    "colab": {
     "base_uri": "https://localhost:8080/"
    },
    "id": "K7SSXyAdJUw_",
    "outputId": "1b003bc8-34c0-4fca-95b2-dde71f56b7e6"
   },
   "outputs": [
    {
     "name": "stdout",
     "output_type": "stream",
     "text": [
      "Epoch 1/20\n",
      "625/625 [==============================] - 77s 116ms/step - loss: 0.5350 - accuracy: 0.7287 - val_loss: 0.3373 - val_accuracy: 0.8578\n",
      "Epoch 2/20\n",
      "625/625 [==============================] - 58s 92ms/step - loss: 0.3230 - accuracy: 0.8606 - val_loss: 0.3143 - val_accuracy: 0.8652\n",
      "Epoch 3/20\n",
      "625/625 [==============================] - 54s 86ms/step - loss: 0.2488 - accuracy: 0.9002 - val_loss: 0.3135 - val_accuracy: 0.8712\n",
      "Epoch 4/20\n",
      "625/625 [==============================] - 50s 80ms/step - loss: 0.1875 - accuracy: 0.9248 - val_loss: 0.3489 - val_accuracy: 0.8696\n",
      "Epoch 5/20\n",
      "625/625 [==============================] - 50s 80ms/step - loss: 0.1320 - accuracy: 0.9493 - val_loss: 0.3550 - val_accuracy: 0.8666\n",
      "Epoch 6/20\n",
      "625/625 [==============================] - 49s 78ms/step - loss: 0.0889 - accuracy: 0.9657 - val_loss: 0.4315 - val_accuracy: 0.8694\n"
     ]
    }
   ],
   "source": [
    "# codes from ChatGPT 4, 23/12~31/12, 2023\n",
    "\n",
    "# Early Stopping\n",
    "new_early_stopping_callback = tf.keras.callbacks.EarlyStopping(\n",
    "    monitor='val_loss',\n",
    "    patience=3,\n",
    "    restore_best_weights=True\n",
    ")\n",
    "\n",
    "new_callbacks = [\n",
    "    tf.keras.callbacks.ModelCheckpoint(\"new_full_transformer_encoder.h5\", save_best_only=True),\n",
    "    new_early_stopping_callback\n",
    "]\n",
    "\n",
    "# train new model\n",
    "new_history = new_model.fit(int_train_ds, validation_data=int_val_ds, epochs=20, callbacks=new_callbacks)"
   ]
  },
  {
   "cell_type": "markdown",
   "metadata": {
    "id": "whcZiyKAQEmO"
   },
   "source": [
    "### 7-2-13. Conclusion for testing on Transformer model:\n",
    "#### After trying different hyperparameters, we can find that the convergence speed is too fast so the overfitting always happened early. There are some possible way we may use for a better consequence in the future and adopt them early rather than try and error for too many times (but these are still meaningful runs):\n",
    "\n",
    "##### 1. Data augmentation:\n",
    "##### Enhance the training data, such as word replacement, sentence rearrangement, etc. to increase the diversity of the data.\n",
    "\n",
    "##### 2. Regularization:\n",
    "##### Applying regularization techniques, such as L1 or L2 regularization, can help reduce model complexity and overfitting.\n",
    "\n",
    "##### 3. Learning rate adjustment:\n",
    "##### Adjust the learning rate or use a learning rate decay strategy. Sometimes, a smaller learning rate can prevent the model from converging too quickly and improve generalization ability.\n",
    "\n",
    "##### 4. Use learning rate warm-up:\n",
    "##### Gradually increase the learning rate at the beginning of training, which is especially effective when training Transformer models.\n",
    "\n",
    "##### 5. More complex optimizers:\n",
    "##### Use a more sophisticated optimizer like AdamW, which combines the advantages of weight decay and the Adam optimizer."
   ]
  },
  {
   "cell_type": "markdown",
   "metadata": {
    "id": "kWorh5iyfQpc"
   },
   "source": [
    "# 7-3. Bidirectional LSTM - DLWP 11.1\n",
    "#### The mean words number of IMDB movie review is around 234. According to DLWP \"...RNN dominated NLP during 2015 to 2017, bidriectional LSTM is the top...\", so we want to check the performance of bidirectional LSTM could perform better than transformer in classification task.\n",
    "#### The validation accuraacy reach to 0.887, which is almost as same as Transformer, but BiLSTM requires less compute resorce because it contains less paramerters. Overall, this is a nice try."
   ]
  },
  {
   "cell_type": "code",
   "execution_count": null,
   "metadata": {
    "id": "Mu0Htxz7fb27"
   },
   "outputs": [],
   "source": [
    "# codes from ChatGPT 4, 23/12~31/12, 2023\n",
    "\n",
    "def build_and_compile_lstm_model(vocab_size, sequence_length, lstm_units, num_layers, dropout_rate):\n",
    "    inputs = tf.keras.Input(shape=(sequence_length,), dtype=\"int64\")\n",
    "    x = tf.keras.layers.Embedding(vocab_size, output_dim=128)(inputs)\n",
    "\n",
    "    # Stack bidirectional LSTM layers\n",
    "    for _ in range(num_layers):\n",
    "        x = tf.keras.layers.Bidirectional(tf.keras.layers.LSTM(lstm_units, return_sequences=True))(x)\n",
    "        x = tf.keras.layers.Dropout(dropout_rate)(x)\n",
    "\n",
    "    # Add a global average pooling layer to reduce dimensions\n",
    "    x = tf.keras.layers.GlobalAveragePooling1D()(x)\n",
    "\n",
    "    # Output layer\n",
    "    outputs = tf.keras.layers.Dense(1, activation=\"sigmoid\")(x)\n",
    "\n",
    "    # Build model\n",
    "    model = tf.keras.Model(inputs, outputs)\n",
    "\n",
    "    # Compile model\n",
    "    model.compile(optimizer=\"adam\", loss=\"binary_crossentropy\", metrics=[\"accuracy\"])\n",
    "    return model"
   ]
  },
  {
   "cell_type": "code",
   "execution_count": null,
   "metadata": {
    "colab": {
     "base_uri": "https://localhost:8080/"
    },
    "id": "scW8x8sYFnp_",
    "outputId": "255e7b21-e88b-4e99-b5eb-b03a5399dd30"
   },
   "outputs": [
    {
     "name": "stdout",
     "output_type": "stream",
     "text": [
      "Model: \"model_5\"\n",
      "_________________________________________________________________\n",
      " Layer (type)                Output Shape              Param #   \n",
      "=================================================================\n",
      " input_6 (InputLayer)        [(None, 600)]             0         \n",
      "                                                                 \n",
      " embedding_5 (Embedding)     (None, 600, 128)          2560000   \n",
      "                                                                 \n",
      " bidirectional_10 (Bidirect  (None, 600, 256)          263168    \n",
      " ional)                                                          \n",
      "                                                                 \n",
      " dropout_10 (Dropout)        (None, 600, 256)          0         \n",
      "                                                                 \n",
      " bidirectional_11 (Bidirect  (None, 600, 256)          394240    \n",
      " ional)                                                          \n",
      "                                                                 \n",
      " dropout_11 (Dropout)        (None, 600, 256)          0         \n",
      "                                                                 \n",
      " global_average_pooling1d_5  (None, 256)               0         \n",
      "  (GlobalAveragePooling1D)                                       \n",
      "                                                                 \n",
      " dense_5 (Dense)             (None, 1)                 257       \n",
      "                                                                 \n",
      "=================================================================\n",
      "Total params: 3217665 (12.27 MB)\n",
      "Trainable params: 3217665 (12.27 MB)\n",
      "Non-trainable params: 0 (0.00 Byte)\n",
      "_________________________________________________________________\n",
      "Epoch 1/20\n",
      "625/625 [==============================] - 102s 153ms/step - loss: 0.5232 - accuracy: 0.7279 - val_loss: 0.3197 - val_accuracy: 0.8754\n",
      "Epoch 2/20\n",
      "625/625 [==============================] - 75s 120ms/step - loss: 0.2592 - accuracy: 0.9002 - val_loss: 0.2835 - val_accuracy: 0.8870\n",
      "Epoch 3/20\n",
      "625/625 [==============================] - 64s 103ms/step - loss: 0.1369 - accuracy: 0.9501 - val_loss: 0.3421 - val_accuracy: 0.8844\n",
      "Epoch 4/20\n",
      "625/625 [==============================] - 62s 98ms/step - loss: 0.0773 - accuracy: 0.9732 - val_loss: 0.3765 - val_accuracy: 0.8798\n",
      "Epoch 5/20\n",
      "625/625 [==============================] - ETA: 0s - loss: 0.0474 - accuracy: 0.9846Restoring model weights from the end of the best epoch: 2.\n",
      "625/625 [==============================] - 60s 96ms/step - loss: 0.0474 - accuracy: 0.9846 - val_loss: 0.4407 - val_accuracy: 0.8734\n",
      "Epoch 5: early stopping\n"
     ]
    }
   ],
   "source": [
    "# codes from ChatGPT 4, 23/12~31/12, 2023\n",
    "\n",
    "# Set model parameters\n",
    "lstm_units = 128\n",
    "num_layers = 2\n",
    "dropout_rate = 0.5\n",
    "\n",
    "# Build and compile the LSTM model\n",
    "lstm_model = build_and_compile_lstm_model(max_tokens, max_length, lstm_units, num_layers, dropout_rate)\n",
    "\n",
    "# Define EarlyStopping callback\n",
    "new_early_stopping_callback = EarlyStopping(\n",
    "    monitor='val_loss',\n",
    "    patience=3,\n",
    "    verbose=1,                 # print early stoping message\n",
    "    mode='min',                # we monitor validation loss here，so the mode is min\n",
    "    restore_best_weights=True\n",
    ")\n",
    "\n",
    "# model summary\n",
    "lstm_model.summary()\n",
    "\n",
    "# training LSTM model\n",
    "lstm_history = lstm_model.fit(\n",
    "    int_train_ds,\n",
    "    validation_data=int_val_ds,\n",
    "    epochs=20,\n",
    "    callbacks=[new_early_stopping_callback]\n",
    ")"
   ]
  },
  {
   "cell_type": "markdown",
   "metadata": {
    "id": "qWmHYt1sa-u1"
   },
   "source": [
    "# 7-4. GloVe word embedding vectors\n",
    "#### The interesting things here is that it demonstrate overfitting but still reach the best validation accuracy and minimum validation loss at epoch 10. A possible explanation could be that the GloVe contains some information that doesn't exsist in the training dataset."
   ]
  },
  {
   "cell_type": "markdown",
   "metadata": {
    "id": "V_Hwu997XaF3"
   },
   "source": [
    "#### Download GloVe by Standford."
   ]
  },
  {
   "cell_type": "code",
   "execution_count": null,
   "metadata": {
    "colab": {
     "base_uri": "https://localhost:8080/"
    },
    "id": "BvcwWHi3bver",
    "outputId": "214dc40e-441d-4283-a490-5932c575ffa8"
   },
   "outputs": [
    {
     "name": "stdout",
     "output_type": "stream",
     "text": [
      "--2024-01-13 23:29:01--  http://nlp.stanford.edu/data/glove.6B.zip\n",
      "Resolving nlp.stanford.edu (nlp.stanford.edu)... 171.64.67.140\n",
      "Connecting to nlp.stanford.edu (nlp.stanford.edu)|171.64.67.140|:80... connected.\n",
      "HTTP request sent, awaiting response... 302 Found\n",
      "Location: https://nlp.stanford.edu/data/glove.6B.zip [following]\n",
      "--2024-01-13 23:29:01--  https://nlp.stanford.edu/data/glove.6B.zip\n",
      "Connecting to nlp.stanford.edu (nlp.stanford.edu)|171.64.67.140|:443... connected.\n",
      "HTTP request sent, awaiting response... 301 Moved Permanently\n",
      "Location: https://downloads.cs.stanford.edu/nlp/data/glove.6B.zip [following]\n",
      "--2024-01-13 23:29:02--  https://downloads.cs.stanford.edu/nlp/data/glove.6B.zip\n",
      "Resolving downloads.cs.stanford.edu (downloads.cs.stanford.edu)... 171.64.64.22\n",
      "Connecting to downloads.cs.stanford.edu (downloads.cs.stanford.edu)|171.64.64.22|:443... connected.\n",
      "HTTP request sent, awaiting response... 200 OK\n",
      "Length: 862182613 (822M) [application/zip]\n",
      "Saving to: ‘glove.6B.zip.1’\n",
      "\n",
      "glove.6B.zip.1      100%[===================>] 822.24M  4.26MB/s    in 4m 7s   \n",
      "\n",
      "2024-01-13 23:33:10 (3.32 MB/s) - ‘glove.6B.zip.1’ saved [862182613/862182613]\n",
      "\n",
      "replace glove.6B.50d.txt? [y]es, [n]o, [A]ll, [N]one, [r]ename: A\n"
     ]
    }
   ],
   "source": [
    "# codes from Ch.11, DLWP\n",
    "\n",
    "!wget http://nlp.stanford.edu/data/glove.6B.zip\n",
    "!unzip -q glove.6B.zip"
   ]
  },
  {
   "cell_type": "markdown",
   "metadata": {
    "id": "vmz3Q0fbbv8Y"
   },
   "source": [
    "### Parsing the GloVe word embedding vector archive"
   ]
  },
  {
   "cell_type": "code",
   "execution_count": null,
   "metadata": {
    "colab": {
     "base_uri": "https://localhost:8080/"
    },
    "id": "KqWZUFkGbzJs",
    "outputId": "a9e24934-8d3f-4d61-a344-3f3b4827e8f2"
   },
   "outputs": [
    {
     "name": "stdout",
     "output_type": "stream",
     "text": [
      "Found 400000 word vectors.\n"
     ]
    }
   ],
   "source": [
    "# codes from Ch.11, DLWP\n",
    "\n",
    "path_to_glove_file = \"glove.6B.100d.txt\"\n",
    "\n",
    "embeddings_index = {}\n",
    "with open(path_to_glove_file) as f:\n",
    "    for line in f:\n",
    "        word, coefs = line.split(maxsplit=1)\n",
    "        coefs = np.fromstring(coefs, \"f\", sep=\" \")\n",
    "        embeddings_index[word] = coefs\n",
    "\n",
    "print(f\"Found {len(embeddings_index)} word vectors.\")"
   ]
  },
  {
   "cell_type": "markdown",
   "metadata": {
    "id": "akjqhge-b1EG"
   },
   "source": [
    "### Prepare GloVe word embedding matrix"
   ]
  },
  {
   "cell_type": "code",
   "execution_count": null,
   "metadata": {
    "id": "zSTyJbBcbjyF"
   },
   "outputs": [],
   "source": [
    "# codes from Ch.11, DLWP\n",
    "\n",
    "embedding_dim = 100\n",
    "\n",
    "vocabulary = text_vectorization.get_vocabulary()\n",
    "word_index = dict(zip(vocabulary, range(len(vocabulary))))\n",
    "\n",
    "embedding_matrix = np.zeros((max_tokens, embedding_dim))\n",
    "for word, i in word_index.items():\n",
    "    if i < max_tokens:\n",
    "        embedding_vector = embeddings_index.get(word)\n",
    "    if embedding_vector is not None:\n",
    "        embedding_matrix[i] = embedding_vector"
   ]
  },
  {
   "cell_type": "code",
   "execution_count": null,
   "metadata": {
    "id": "_myE2hP9b5iK"
   },
   "outputs": [],
   "source": [
    "# codes from Ch.11, DLWP\n",
    "\n",
    "embedding_layer = layers.Embedding(\n",
    "    max_tokens,\n",
    "    embedding_dim,\n",
    "    embeddings_initializer=keras.initializers.Constant(embedding_matrix),\n",
    "    trainable=False,\n",
    "    mask_zero=True,\n",
    ")"
   ]
  },
  {
   "cell_type": "markdown",
   "metadata": {
    "id": "kkC7FjqMb7g5"
   },
   "source": [
    "### Using pre-trained Embedding layer model"
   ]
  },
  {
   "cell_type": "code",
   "execution_count": null,
   "metadata": {
    "colab": {
     "base_uri": "https://localhost:8080/"
    },
    "id": "hX3W8UGxb-CA",
    "outputId": "b28ca153-6834-4373-adb0-e510653b02f6"
   },
   "outputs": [
    {
     "name": "stdout",
     "output_type": "stream",
     "text": [
      "Model: \"model_7\"\n",
      "_________________________________________________________________\n",
      " Layer (type)                Output Shape              Param #   \n",
      "=================================================================\n",
      " input_8 (InputLayer)        [(None, None)]            0         \n",
      "                                                                 \n",
      " embedding_7 (Embedding)     (None, None, 100)         2000000   \n",
      "                                                                 \n",
      " bidirectional_13 (Bidirect  (None, 64)                34048     \n",
      " ional)                                                          \n",
      "                                                                 \n",
      " dropout_13 (Dropout)        (None, 64)                0         \n",
      "                                                                 \n",
      " dense_7 (Dense)             (None, 1)                 65        \n",
      "                                                                 \n",
      "=================================================================\n",
      "Total params: 2034113 (7.76 MB)\n",
      "Trainable params: 34113 (133.25 KB)\n",
      "Non-trainable params: 2000000 (7.63 MB)\n",
      "_________________________________________________________________\n",
      "Epoch 1/10\n",
      "625/625 [==============================] - 64s 89ms/step - loss: 0.5789 - accuracy: 0.6906 - val_loss: 0.5650 - val_accuracy: 0.6748\n",
      "Epoch 2/10\n",
      "625/625 [==============================] - 55s 86ms/step - loss: 0.4681 - accuracy: 0.7825 - val_loss: 0.4122 - val_accuracy: 0.8180\n",
      "Epoch 3/10\n",
      "625/625 [==============================] - 33s 53ms/step - loss: 0.4045 - accuracy: 0.8236 - val_loss: 0.4499 - val_accuracy: 0.8094\n",
      "Epoch 4/10\n",
      "625/625 [==============================] - 54s 86ms/step - loss: 0.3725 - accuracy: 0.8414 - val_loss: 0.3627 - val_accuracy: 0.8410\n",
      "Epoch 5/10\n",
      "625/625 [==============================] - 34s 53ms/step - loss: 0.3438 - accuracy: 0.8544 - val_loss: 0.3856 - val_accuracy: 0.8256\n",
      "Epoch 6/10\n",
      "625/625 [==============================] - 54s 86ms/step - loss: 0.3236 - accuracy: 0.8638 - val_loss: 0.3108 - val_accuracy: 0.8696\n",
      "Epoch 7/10\n",
      "625/625 [==============================] - 54s 86ms/step - loss: 0.3023 - accuracy: 0.8745 - val_loss: 0.3096 - val_accuracy: 0.8692\n",
      "Epoch 8/10\n",
      "625/625 [==============================] - 33s 53ms/step - loss: 0.2883 - accuracy: 0.8831 - val_loss: 0.3398 - val_accuracy: 0.8524\n",
      "Epoch 9/10\n",
      "625/625 [==============================] - 33s 52ms/step - loss: 0.2728 - accuracy: 0.8875 - val_loss: 0.3155 - val_accuracy: 0.8706\n",
      "Epoch 10/10\n",
      "625/625 [==============================] - 54s 85ms/step - loss: 0.2590 - accuracy: 0.8946 - val_loss: 0.2949 - val_accuracy: 0.8794\n"
     ]
    },
    {
     "data": {
      "text/plain": [
       "<keras.src.callbacks.History at 0x78c75c9f3e50>"
      ]
     },
     "execution_count": 23,
     "metadata": {},
     "output_type": "execute_result"
    }
   ],
   "source": [
    "# codes from Ch.11, DLWP\n",
    "\n",
    "inputs = keras.Input(shape=(None,), dtype=\"int64\")\n",
    "embedded = embedding_layer(inputs)\n",
    "x = layers.Bidirectional(layers.LSTM(32))(embedded)\n",
    "x = layers.Dropout(0.5)(x)\n",
    "outputs = layers.Dense(1, activation=\"sigmoid\")(x)\n",
    "model = keras.Model(inputs, outputs)\n",
    "model.compile(optimizer=\"rmsprop\",\n",
    "       loss=\"binary_crossentropy\",\n",
    "       metrics=[\"accuracy\"])\n",
    "model.summary()\n",
    "\n",
    "callbacks = [\n",
    "    keras.callbacks.ModelCheckpoint(\"glove_embeddings_sequence_model.keras\",\n",
    "                    save_best_only=True)\n",
    "]\n",
    "\n",
    "model.fit(int_train_ds, validation_data=int_val_ds, epochs=10, callbacks=callbacks)\n",
    "model = keras.models.load_model(\"glove_embeddings_sequence_model.keras\")\n",
    "print(f\"Test acc: {model.evaluate(int_test_ds)[1]:.3f}\")"
   ]
  },
  {
   "cell_type": "markdown",
   "metadata": {},
   "source": [
    "# **Key Differences Among the Three Methods, namely Bag-of-Words: N-gram (N=2), Binary Bigram Model, and TF-IDF Bigram Model**\n",
    "\n",
    "| **Method**             | **Feature Values**   | **Considers Term Frequency** | **Considers Global Corpus** | **Best Use Cases**             |\n",
    "|-------------------------|----------------------|------------------------------|-----------------------------|---------------------------------|\n",
    "| **Bag-of-Words: N-gram** | Word pair frequency | Yes                          | No                          | Basic text classification      |\n",
    "| **Binary Bigram Model** | Binary (0 or 1)     | No                           | No                          | Short text classification      |\n",
    "| **TF-IDF Bigram Model** | TF-IDF weights      | Yes                          | Yes                         | Importance-based text analysis |\n",
    "\n",
    "---\n",
    "\n",
    "## **Conclusion**\n",
    "Each method serves a distinct purpose depending on the dataset and task requirements:\n",
    "- **Bag-of-Words: N-gram**: Best for capturing simple word relationships in text.\n",
    "- **Binary Bigram Model**: Useful for quick classification where high-frequency terms might dominate.\n",
    "- **TF-IDF Bigram Model**: Effective for highlighting rare but significant terms while suppressing common ones."
   ]
  },
  {
   "cell_type": "markdown",
   "metadata": {
    "id": "FHzkJa5pZcF-"
   },
   "source": [
    "# 7-5. Bag-of-words: N-gram(N=2)\n",
    "#### The training process looks smoothly even the overfitting happened slightly. The best validation accuracy reach to 0.89, which is a good performance."
   ]
  },
  {
   "cell_type": "markdown",
   "metadata": {
    "id": "qgfNiwKzZxKW"
   },
   "source": [
    "### Pre-process the dataset with TextVectorization layer\n",
    "#### Suppose the vocabulary contains only three words [\"apple\", \"banana\", \"orange\"], then the text \"apple and banana\" will be converted into a vector [1, 1, 0], because \"apple\" and \"banana\" appears in the text, but \"orange\" does not. This approach is suitable for certain types of text analysis tasks, especially when the occurrence of specific words in the text is more important than their order. However, the the classification performance is good."
   ]
  },
  {
   "cell_type": "code",
   "execution_count": null,
   "metadata": {
    "id": "qyNrn5KRZbX0"
   },
   "outputs": [],
   "source": [
    "# codes from Ch.11, DLWP\n",
    "\n",
    "text_vectorization = TextVectorization(\n",
    "    max_tokens=20000,\n",
    "    output_mode=\"multi_hot\",\n",
    ")\n",
    "text_only_train_ds = train_ds.map(lambda x, y: x)\n",
    "text_vectorization.adapt(text_only_train_ds)\n",
    "\n",
    "binary_1gram_train_ds = train_ds.map(\n",
    "    lambda x, y: (text_vectorization(x), y),\n",
    "    num_parallel_calls=4)\n",
    "binary_1gram_val_ds = val_ds.map(\n",
    "    lambda x, y: (text_vectorization(x), y),\n",
    "    num_parallel_calls=4)\n",
    "binary_1gram_test_ds = test_ds.map(\n",
    "    lambda x, y: (text_vectorization(x), y),\n",
    "    num_parallel_calls=4)"
   ]
  },
  {
   "cell_type": "markdown",
   "metadata": {
    "id": "FIKDLmM6Z0RG"
   },
   "source": [
    "### Check the output of binary unigram data set"
   ]
  },
  {
   "cell_type": "code",
   "execution_count": null,
   "metadata": {
    "colab": {
     "base_uri": "https://localhost:8080/"
    },
    "id": "L5HBYzIVZ3UT",
    "outputId": "af56f6ca-a519-45a7-8da1-bc463db1d599"
   },
   "outputs": [
    {
     "name": "stdout",
     "output_type": "stream",
     "text": [
      "inputs.shape: (32, 20000)\n",
      "inputs.dtype: <dtype: 'float32'>\n",
      "targets.shape: (32,)\n",
      "targets.dtype: <dtype: 'int32'>\n",
      "inputs[0]: tf.Tensor([1. 1. 1. ... 0. 0. 0.], shape=(20000,), dtype=float32)\n",
      "targets[0]: tf.Tensor(1, shape=(), dtype=int32)\n"
     ]
    }
   ],
   "source": [
    "# codes from Ch.11, DLWP\n",
    "\n",
    "for inputs, targets in binary_1gram_train_ds:\n",
    "    print(\"inputs.shape:\", inputs.shape)\n",
    "    print(\"inputs.dtype:\", inputs.dtype)\n",
    "    print(\"targets.shape:\", targets.shape)\n",
    "    print(\"targets.dtype:\", targets.dtype)\n",
    "\n",
    "    print(\"inputs[0]:\", inputs[0])\n",
    "    print(\"targets[0]:\", targets[0])\n",
    "    break"
   ]
  },
  {
   "cell_type": "markdown",
   "metadata": {
    "id": "wsJxwtdCZ5i0"
   },
   "source": [
    "### modeling function"
   ]
  },
  {
   "cell_type": "code",
   "execution_count": null,
   "metadata": {
    "id": "sPHV8ef4Z7TX"
   },
   "outputs": [],
   "source": [
    "# codes from Ch.11, DLWP\n",
    "\n",
    "def get_model(max_tokens=20000, hidden_dim=16):\n",
    "    inputs = keras.Input(shape=(max_tokens,))\n",
    "    x = layers.Dense(hidden_dim, activation=\"relu\")(inputs)\n",
    "    x = layers.Dropout(0.5)(x)\n",
    "    outputs = layers.Dense(1, activation=\"sigmoid\")(x)\n",
    "    model = keras.Model(inputs, outputs)\n",
    "    model.compile(optimizer=\"rmsprop\",\n",
    "                  loss=\"binary_crossentropy\",\n",
    "                  metrics=[\"accuracy\"])\n",
    "    return model"
   ]
  },
  {
   "cell_type": "markdown",
   "metadata": {
    "id": "yEHJo58EZ8tM"
   },
   "source": [
    "### Train and test the binary unigram model"
   ]
  },
  {
   "cell_type": "code",
   "execution_count": null,
   "metadata": {
    "colab": {
     "base_uri": "https://localhost:8080/"
    },
    "id": "ixOYukqDZ9XW",
    "outputId": "a264f4d7-cb78-4f85-8eb7-01a3d12696d1"
   },
   "outputs": [
    {
     "name": "stdout",
     "output_type": "stream",
     "text": [
      "Model: \"model_12\"\n",
      "_________________________________________________________________\n",
      " Layer (type)                Output Shape              Param #   \n",
      "=================================================================\n",
      " input_13 (InputLayer)       [(None, 20000)]           0         \n",
      "                                                                 \n",
      " dense_14 (Dense)            (None, 16)                320016    \n",
      "                                                                 \n",
      " dropout_17 (Dropout)        (None, 16)                0         \n",
      "                                                                 \n",
      " dense_15 (Dense)            (None, 1)                 17        \n",
      "                                                                 \n",
      "=================================================================\n",
      "Total params: 320033 (1.22 MB)\n",
      "Trainable params: 320033 (1.22 MB)\n",
      "Non-trainable params: 0 (0.00 Byte)\n",
      "_________________________________________________________________\n",
      "Epoch 1/10\n",
      "625/625 [==============================] - 31s 49ms/step - loss: 0.4109 - accuracy: 0.8283 - val_loss: 0.2950 - val_accuracy: 0.8778\n",
      "Epoch 2/10\n",
      "625/625 [==============================] - 3s 4ms/step - loss: 0.2751 - accuracy: 0.8984 - val_loss: 0.2860 - val_accuracy: 0.8874\n",
      "Epoch 3/10\n",
      "625/625 [==============================] - 3s 4ms/step - loss: 0.2430 - accuracy: 0.9142 - val_loss: 0.3007 - val_accuracy: 0.8876\n",
      "Epoch 4/10\n",
      "625/625 [==============================] - 3s 4ms/step - loss: 0.2263 - accuracy: 0.9213 - val_loss: 0.3128 - val_accuracy: 0.8864\n",
      "Epoch 5/10\n",
      "625/625 [==============================] - 3s 4ms/step - loss: 0.2118 - accuracy: 0.9269 - val_loss: 0.3308 - val_accuracy: 0.8906\n",
      "Epoch 6/10\n",
      "625/625 [==============================] - 3s 4ms/step - loss: 0.2067 - accuracy: 0.9320 - val_loss: 0.3449 - val_accuracy: 0.8882\n",
      "Epoch 7/10\n",
      "625/625 [==============================] - 3s 4ms/step - loss: 0.2068 - accuracy: 0.9321 - val_loss: 0.3542 - val_accuracy: 0.8862\n",
      "Epoch 8/10\n",
      "625/625 [==============================] - 2s 4ms/step - loss: 0.2010 - accuracy: 0.9385 - val_loss: 0.3669 - val_accuracy: 0.8878\n",
      "Epoch 9/10\n",
      "625/625 [==============================] - 2s 4ms/step - loss: 0.1958 - accuracy: 0.9378 - val_loss: 0.3719 - val_accuracy: 0.8858\n",
      "Epoch 10/10\n",
      "625/625 [==============================] - 2s 4ms/step - loss: 0.1844 - accuracy: 0.9410 - val_loss: 0.3875 - val_accuracy: 0.8844\n",
      "782/782 [==============================] - 31s 39ms/step - loss: 0.2873 - accuracy: 0.8866\n",
      "Test acc: 0.8866\n"
     ]
    }
   ],
   "source": [
    "# codes from Ch.11, DLWP\n",
    "\n",
    "model = get_model()\n",
    "model.summary()\n",
    "callbacks = [\n",
    "    keras.callbacks.ModelCheckpoint(\"binary_1gram.keras\",\n",
    "                                    save_best_only=True)\n",
    "]\n",
    "model.fit(binary_1gram_train_ds.cache(),\n",
    "          validation_data=binary_1gram_val_ds.cache(),\n",
    "          epochs=10,\n",
    "          callbacks=callbacks)\n",
    "model = keras.models.load_model(\"binary_1gram.keras\")\n",
    "print(f\"Test acc: {model.evaluate(binary_1gram_test_ds)[1]:.4f}\")"
   ]
  },
  {
   "cell_type": "markdown",
   "metadata": {
    "id": "R6PZJsZCaNdt"
   },
   "source": [
    "# 7-6. Bigram\n",
    "#### Appear the best performance of IMDB movie review classification task, which test accuracy is 0.896, and almost 0.90 at the first epoch, but overfitting started from almost first two epoch."
   ]
  },
  {
   "cell_type": "markdown",
   "metadata": {
    "id": "o4S_L9TAgeiO"
   },
   "source": [
    "#### Create a TextVectorization layer that can pass back the bigram"
   ]
  },
  {
   "cell_type": "code",
   "execution_count": null,
   "metadata": {
    "id": "7x-BlfqFaOaq"
   },
   "outputs": [],
   "source": [
    "# codes from Ch.11, DLWP\n",
    "\n",
    "text_vectorization = TextVectorization(\n",
    "    ngrams=2,                 # \"The quick brown fox\" will be process as  \"The quick\"、\"quick brown\" 和 \"brown fox\".\n",
    "    max_tokens=20000,\n",
    "    output_mode=\"multi_hot\",\n",
    ")"
   ]
  },
  {
   "cell_type": "markdown",
   "metadata": {
    "id": "_lUgA4MXaQ3f"
   },
   "source": [
    "### Train and test a binary bigram model"
   ]
  },
  {
   "cell_type": "code",
   "execution_count": null,
   "metadata": {
    "colab": {
     "base_uri": "https://localhost:8080/"
    },
    "id": "A9rFm_fFaSrs",
    "outputId": "23390a6c-c696-4192-d7e2-be60e4e5c3de"
   },
   "outputs": [
    {
     "name": "stdout",
     "output_type": "stream",
     "text": [
      "Model: \"model_9\"\n",
      "_________________________________________________________________\n",
      " Layer (type)                Output Shape              Param #   \n",
      "=================================================================\n",
      " input_10 (InputLayer)       [(None, 20000)]           0         \n",
      "                                                                 \n",
      " dense_10 (Dense)            (None, 16)                320016    \n",
      "                                                                 \n",
      " dropout_15 (Dropout)        (None, 16)                0         \n",
      "                                                                 \n",
      " dense_11 (Dense)            (None, 1)                 17        \n",
      "                                                                 \n",
      "=================================================================\n",
      "Total params: 320033 (1.22 MB)\n",
      "Trainable params: 320033 (1.22 MB)\n",
      "Non-trainable params: 0 (0.00 Byte)\n",
      "_________________________________________________________________\n",
      "Epoch 1/10\n",
      "625/625 [==============================] - 32s 50ms/step - loss: 0.3878 - accuracy: 0.8417 - val_loss: 0.2718 - val_accuracy: 0.8944\n",
      "Epoch 2/10\n",
      "625/625 [==============================] - 3s 4ms/step - loss: 0.2443 - accuracy: 0.9132 - val_loss: 0.2751 - val_accuracy: 0.8982\n",
      "Epoch 3/10\n",
      "625/625 [==============================] - 3s 4ms/step - loss: 0.2083 - accuracy: 0.9334 - val_loss: 0.2874 - val_accuracy: 0.8978\n",
      "Epoch 4/10\n",
      "625/625 [==============================] - 3s 4ms/step - loss: 0.1824 - accuracy: 0.9423 - val_loss: 0.3186 - val_accuracy: 0.8940\n",
      "Epoch 5/10\n",
      "625/625 [==============================] - 3s 4ms/step - loss: 0.1707 - accuracy: 0.9486 - val_loss: 0.3337 - val_accuracy: 0.8938\n",
      "Epoch 6/10\n",
      "625/625 [==============================] - 3s 4ms/step - loss: 0.1707 - accuracy: 0.9512 - val_loss: 0.3482 - val_accuracy: 0.8904\n",
      "Epoch 7/10\n",
      "625/625 [==============================] - 3s 4ms/step - loss: 0.1533 - accuracy: 0.9544 - val_loss: 0.3561 - val_accuracy: 0.8966\n",
      "Epoch 8/10\n",
      "625/625 [==============================] - 2s 4ms/step - loss: 0.1570 - accuracy: 0.9570 - val_loss: 0.3675 - val_accuracy: 0.8918\n",
      "Epoch 9/10\n",
      "625/625 [==============================] - 2s 4ms/step - loss: 0.1533 - accuracy: 0.9586 - val_loss: 0.3952 - val_accuracy: 0.8900\n",
      "Epoch 10/10\n",
      "625/625 [==============================] - 2s 4ms/step - loss: 0.1567 - accuracy: 0.9584 - val_loss: 0.3960 - val_accuracy: 0.8848\n",
      "782/782 [==============================] - 31s 39ms/step - loss: 0.2723 - accuracy: 0.8964\n",
      "Test acc: 0.896\n"
     ]
    }
   ],
   "source": [
    "# codes from Ch.11, DLWP\n",
    "\n",
    "text_vectorization.adapt(text_only_train_ds)\n",
    "binary_2gram_train_ds = train_ds.map(\n",
    "    lambda x, y: (text_vectorization(x), y),\n",
    "    num_parallel_calls=4)\n",
    "binary_2gram_val_ds = val_ds.map(\n",
    "    lambda x, y: (text_vectorization(x), y),\n",
    "    num_parallel_calls=4)\n",
    "binary_2gram_test_ds = test_ds.map(\n",
    "    lambda x, y: (text_vectorization(x), y),\n",
    "    num_parallel_calls=4)\n",
    "\n",
    "model = get_model()\n",
    "model.summary()\n",
    "callbacks = [\n",
    "    keras.callbacks.ModelCheckpoint(\"binary_2gram.keras\",\n",
    "                                    save_best_only=True)\n",
    "]\n",
    "model.fit(binary_2gram_train_ds.cache(),\n",
    "          validation_data=binary_2gram_val_ds.cache(),\n",
    "          epochs=10,\n",
    "          callbacks=callbacks)\n",
    "model = keras.models.load_model(\"binary_2gram.keras\")\n",
    "print(f\"Test acc: {model.evaluate(binary_2gram_test_ds)[1]:.3f}\")"
   ]
  },
  {
   "cell_type": "markdown",
   "metadata": {
    "id": "nBf6g99yhJuC"
   },
   "source": [
    "# 7-7. TF-IDF bigram model\n",
    "#### The test performance also good, which is 0.893, but the overfitting situation is relatively dramastically."
   ]
  },
  {
   "cell_type": "markdown",
   "metadata": {
    "id": "2V4fS4FYaXCt"
   },
   "source": [
    "#### Configure the TextVectorization layer to return the number of occurrences of bigram"
   ]
  },
  {
   "cell_type": "code",
   "execution_count": null,
   "metadata": {
    "id": "7LDaSZXMaYEY"
   },
   "outputs": [],
   "source": [
    "# codes from Ch.11, DLWP\n",
    "\n",
    "text_vectorization = TextVectorization(\n",
    "    ngrams=2,\n",
    "    max_tokens=20000,\n",
    "    output_mode=\"count\"\n",
    ")"
   ]
  },
  {
   "cell_type": "markdown",
   "metadata": {
    "id": "wUW4nJudaZj_"
   },
   "source": [
    "#### Use TextVectorization to return the TF-IDF weighted output result"
   ]
  },
  {
   "cell_type": "code",
   "execution_count": null,
   "metadata": {
    "id": "beZD19g6amEA"
   },
   "outputs": [],
   "source": [
    "# codes from Ch.11, DLWP\n",
    "\n",
    "text_vectorization = TextVectorization(\n",
    "    ngrams=2,\n",
    "    max_tokens=20000,\n",
    "    output_mode=\"tf_idf\",\n",
    ")"
   ]
  },
  {
   "cell_type": "markdown",
   "metadata": {
    "id": "ceP4rr8ZaoSC"
   },
   "source": [
    "#### Train and test the TF-IDF bigram model"
   ]
  },
  {
   "cell_type": "code",
   "execution_count": null,
   "metadata": {
    "colab": {
     "base_uri": "https://localhost:8080/"
    },
    "id": "tZJorkhHar-J",
    "outputId": "34a41061-5bde-4e49-9ea2-9e1c8a448f06"
   },
   "outputs": [
    {
     "name": "stdout",
     "output_type": "stream",
     "text": [
      "Model: \"model_10\"\n",
      "_________________________________________________________________\n",
      " Layer (type)                Output Shape              Param #   \n",
      "=================================================================\n",
      " input_11 (InputLayer)       [(None, 20000)]           0         \n",
      "                                                                 \n",
      " dense_12 (Dense)            (None, 16)                320016    \n",
      "                                                                 \n",
      " dropout_16 (Dropout)        (None, 16)                0         \n",
      "                                                                 \n",
      " dense_13 (Dense)            (None, 1)                 17        \n",
      "                                                                 \n",
      "=================================================================\n",
      "Total params: 320033 (1.22 MB)\n",
      "Trainable params: 320033 (1.22 MB)\n",
      "Non-trainable params: 0 (0.00 Byte)\n",
      "_________________________________________________________________\n",
      "Epoch 1/10\n",
      "625/625 [==============================] - 32s 50ms/step - loss: 0.4636 - accuracy: 0.7868 - val_loss: 0.2892 - val_accuracy: 0.8910\n",
      "Epoch 2/10\n",
      "625/625 [==============================] - 3s 4ms/step - loss: 0.3227 - accuracy: 0.8629 - val_loss: 0.2941 - val_accuracy: 0.8828\n",
      "Epoch 3/10\n",
      "625/625 [==============================] - 2s 4ms/step - loss: 0.2875 - accuracy: 0.8773 - val_loss: 0.2984 - val_accuracy: 0.8870\n",
      "Epoch 4/10\n",
      "625/625 [==============================] - 3s 4ms/step - loss: 0.2747 - accuracy: 0.8788 - val_loss: 0.3040 - val_accuracy: 0.8828\n",
      "Epoch 5/10\n",
      "625/625 [==============================] - 3s 4ms/step - loss: 0.2597 - accuracy: 0.8822 - val_loss: 0.3134 - val_accuracy: 0.8750\n",
      "Epoch 6/10\n",
      "625/625 [==============================] - 3s 4ms/step - loss: 0.2494 - accuracy: 0.8827 - val_loss: 0.3126 - val_accuracy: 0.8816\n",
      "Epoch 7/10\n",
      "625/625 [==============================] - 2s 4ms/step - loss: 0.2424 - accuracy: 0.8961 - val_loss: 0.3247 - val_accuracy: 0.8754\n",
      "Epoch 8/10\n",
      "625/625 [==============================] - 2s 4ms/step - loss: 0.2296 - accuracy: 0.9006 - val_loss: 0.3336 - val_accuracy: 0.8798\n",
      "Epoch 9/10\n",
      "625/625 [==============================] - 2s 4ms/step - loss: 0.2244 - accuracy: 0.9054 - val_loss: 0.3429 - val_accuracy: 0.8746\n",
      "Epoch 10/10\n",
      "625/625 [==============================] - 2s 4ms/step - loss: 0.2241 - accuracy: 0.9093 - val_loss: 0.3446 - val_accuracy: 0.8814\n",
      "782/782 [==============================] - 31s 39ms/step - loss: 0.3001 - accuracy: 0.8926\n",
      "Test acc: 0.893\n"
     ]
    }
   ],
   "source": [
    "# codes from Ch.11, DLWP\n",
    "\n",
    "text_vectorization.adapt(text_only_train_ds)\n",
    "\n",
    "tfidf_2gram_train_ds = train_ds.map(\n",
    "    lambda x, y: (text_vectorization(x), y),\n",
    "    num_parallel_calls=4)\n",
    "tfidf_2gram_val_ds = val_ds.map(\n",
    "    lambda x, y: (text_vectorization(x), y),\n",
    "    num_parallel_calls=4)\n",
    "tfidf_2gram_test_ds = test_ds.map(\n",
    "    lambda x, y: (text_vectorization(x), y),\n",
    "    num_parallel_calls=4)\n",
    "\n",
    "model = get_model()\n",
    "model.summary()\n",
    "callbacks = [\n",
    "    keras.callbacks.ModelCheckpoint(\"tfidf_2gram.keras\",\n",
    "                     save_best_only=True)\n",
    "]\n",
    "model.fit(tfidf_2gram_train_ds.cache(),\n",
    "      validation_data=tfidf_2gram_val_ds.cache(),\n",
    "      epochs=10,\n",
    "      callbacks=callbacks)\n",
    "model = keras.models.load_model(\"tfidf_2gram.keras\")\n",
    "print(f\"Test acc: {model.evaluate(tfidf_2gram_test_ds)[1]:.3f}\")"
   ]
  },
  {
   "cell_type": "markdown",
   "metadata": {
    "id": "eBzHoTsdiujv"
   },
   "source": [
    "# 8. Created a new model for inference (inference_model) that accepts raw text as input and outputs the model's predictions."
   ]
  },
  {
   "cell_type": "code",
   "execution_count": null,
   "metadata": {
    "id": "xCQfv89Cauak"
   },
   "outputs": [],
   "source": [
    "# codes from Ch.11, DLWP\n",
    "\n",
    "inputs = keras.Input(shape=(1,), dtype=\"string\")\n",
    "processed_inputs = text_vectorization(inputs)\n",
    "outputs = model(processed_inputs)\n",
    "inference_model = keras.Model(inputs, outputs)    # inference model"
   ]
  },
  {
   "cell_type": "code",
   "execution_count": null,
   "metadata": {
    "colab": {
     "base_uri": "https://localhost:8080/"
    },
    "id": "4LgRh0Dnav7B",
    "outputId": "97a9cb58-1de0-454e-cc5e-15846878306d"
   },
   "outputs": [
    {
     "name": "stdout",
     "output_type": "stream",
     "text": [
      "87.16 percent positive\n"
     ]
    }
   ],
   "source": [
    "# codes from Ch.11, DLWP\n",
    "\n",
    "raw_text_data = tf.convert_to_tensor([                        # prediction sample\n",
    "    [\"That was an excellent movie, I loved it.\"],\n",
    "])\n",
    "predictions = inference_model(raw_text_data)                  # prediction\n",
    "print(f\"{float(predictions[0] * 100):.2f} percent positive\")  # prediction output"
   ]
  },
  {
   "cell_type": "markdown",
   "metadata": {
    "id": "6a4P9sbzrqQu"
   },
   "source": [
    "# 9. Attention is all we need?\n",
    "#### First thing first, deep learning is really a game of resources. The resource is not only VGA but also is time. At first, I thought free T4 GPU would be enough for our model training. But at the first time I ran a code in Chaoter 9, DLWP, I realised that the game is changed, we may need a better approach because it is time consuming. When I ran first transformer model, I'm 1000% for sure this is the game of resource, it is impossible to ran model on just free T4 GPU because the runing-out-of-time problem is way sevre than the time consuming issue. Second, even though transformer provide a very different and useful apporach to machine leaning, but we have to consider the resource we have because nothing in this field is free if we want to achieve diffrent purpose. Furthermore, we could say that techniques and applications in this field is envolve in a daily pace, we could learn/heard something new eryday we wake up."
   ]
  },
  {
   "cell_type": "markdown",
   "metadata": {
    "id": "DTQV0Yvb5MNb"
   },
   "source": [
    "# 10. References\n",
    "#### Chollet F., 2021, Ch.1-6, Deep Learning with Python, Second Edition, Manning\n",
    "#### Wenger J., Week6-10, 2023-2024, Lecture and Lab materials, IS53024B/S/IS71039B/A: ARTIFICIAL INTELLIGENCE (2023-24), Goldsmiths, UoL\n",
    "#### ChatGPT 4, 23/12~31/12, 2023\n",
    "#### Google Translate, 23/12/2023~ 15/1/2023\n",
    "#### LAKSHMIPATHI N,Sentiment Analysis of IMDB Movie Reviews, Avaliable: https://www.kaggle.com/code/lakshmi25npathi/sentiment-analysis-of-imdb-movie-reviews?kernelSessionId=40627787\n",
    "#### DERRELL, IMDB sentiment analysis - EDA, ML, LSTM, BERT, Avaliable: https://www.kaggle.com/code/derrelldsouza/imdb-sentiment-analysis-eda-ml-lstm-bert?kernelSessionId=68871348\n",
    "#### ALEX CHERNIUK, IMDB review Word2Vec & BiLSTM - 99% acc, Avaliable: https://www.kaggle.com/code/alexcherniuk/imdb-review-word2vec-bilstm-99-acc?kernelSessionId=13518574\n",
    "#### DSANGEETHA, Analysis on IMDB movies, Avaliable: https://www.kaggle.com/code/devisangeetha/analysis-on-imdb-movies?kernelSessionId=1886812\n",
    "#### HARSHAL GADHE, IMDB sentiment Classifier ~ 97% accuracy model, Avaliable: https://www.kaggle.com/code/harshalgadhe/imdb-sentiment-classifier-97-accuracy-model\n",
    "#### Sanghvirajit, A Complete Guide to Adam and RMSprop Optimizer, Avaliable: https://medium.com/analytics-vidhya/a-complete-guide-to-adam-and-rmsprop-optimizer-75f4502d83be\n",
    "#### Lili Jiang, A Visual Explanation of Gradient Descent Methods (Momentum, AdaGrad, RMSProp, Adam), Avaliable: https://towardsdatascience.com/a-visual-explanation-of-gradient-descent-methods-momentum-adagrad-rmsprop-adam-f898b102325c\n",
    "#### Artem Oppermann, Optimization in deep learning: AdaGrad,RMSProp, Adam, Avaliable: https://artemoppermann.com/optimization-in-deep-learning-adagrad-rmsprop-adam/"
   ]
  }
 ],
 "metadata": {
  "colab": {
   "machine_shape": "hm",
   "provenance": []
  },
  "kernelspec": {
   "display_name": "Python 3 (ipykernel)",
   "language": "python",
   "name": "python3"
  },
  "language_info": {
   "codemirror_mode": {
    "name": "ipython",
    "version": 3
   },
   "file_extension": ".py",
   "mimetype": "text/x-python",
   "name": "python",
   "nbconvert_exporter": "python",
   "pygments_lexer": "ipython3",
   "version": "3.11.5"
  }
 },
 "nbformat": 4,
 "nbformat_minor": 1
}
